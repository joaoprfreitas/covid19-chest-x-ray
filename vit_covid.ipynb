{
  "nbformat": 4,
  "nbformat_minor": 0,
  "metadata": {
    "colab": {
      "provenance": [],
      "gpuType": "T4"
    },
    "kernelspec": {
      "name": "python3",
      "display_name": "Python 3"
    },
    "language_info": {
      "name": "python"
    },
    "accelerator": "GPU",
    "widgets": {
      "application/vnd.jupyter.widget-state+json": {
        "cb846a5ae892456dae141b375e5cf9ee": {
          "model_module": "@jupyter-widgets/controls",
          "model_name": "HBoxModel",
          "model_module_version": "1.5.0",
          "state": {
            "_dom_classes": [],
            "_model_module": "@jupyter-widgets/controls",
            "_model_module_version": "1.5.0",
            "_model_name": "HBoxModel",
            "_view_count": null,
            "_view_module": "@jupyter-widgets/controls",
            "_view_module_version": "1.5.0",
            "_view_name": "HBoxView",
            "box_style": "",
            "children": [
              "IPY_MODEL_ffbce68366834a60b27bc7153dcd94cb",
              "IPY_MODEL_771951922fac4061ac958784eb19a7c1",
              "IPY_MODEL_c8cbadb5776249d3a860e37fd44a7bf1"
            ],
            "layout": "IPY_MODEL_045a522312c54a368c6be7453ee59cb0"
          }
        },
        "ffbce68366834a60b27bc7153dcd94cb": {
          "model_module": "@jupyter-widgets/controls",
          "model_name": "HTMLModel",
          "model_module_version": "1.5.0",
          "state": {
            "_dom_classes": [],
            "_model_module": "@jupyter-widgets/controls",
            "_model_module_version": "1.5.0",
            "_model_name": "HTMLModel",
            "_view_count": null,
            "_view_module": "@jupyter-widgets/controls",
            "_view_module_version": "1.5.0",
            "_view_name": "HTMLView",
            "description": "",
            "description_tooltip": null,
            "layout": "IPY_MODEL_7a7c3669a91b42658a55518ad1c628b2",
            "placeholder": "​",
            "style": "IPY_MODEL_4cfcedfb78714ed8a1fb6b43fa8a6f1d",
            "value": "100%"
          }
        },
        "771951922fac4061ac958784eb19a7c1": {
          "model_module": "@jupyter-widgets/controls",
          "model_name": "FloatProgressModel",
          "model_module_version": "1.5.0",
          "state": {
            "_dom_classes": [],
            "_model_module": "@jupyter-widgets/controls",
            "_model_module_version": "1.5.0",
            "_model_name": "FloatProgressModel",
            "_view_count": null,
            "_view_module": "@jupyter-widgets/controls",
            "_view_module_version": "1.5.0",
            "_view_name": "ProgressView",
            "bar_style": "success",
            "description": "",
            "description_tooltip": null,
            "layout": "IPY_MODEL_51012636beaa4df2ac3abe9c0cf56803",
            "max": 10,
            "min": 0,
            "orientation": "horizontal",
            "style": "IPY_MODEL_20ed374a2d3b421d99480c0dab718152",
            "value": 10
          }
        },
        "c8cbadb5776249d3a860e37fd44a7bf1": {
          "model_module": "@jupyter-widgets/controls",
          "model_name": "HTMLModel",
          "model_module_version": "1.5.0",
          "state": {
            "_dom_classes": [],
            "_model_module": "@jupyter-widgets/controls",
            "_model_module_version": "1.5.0",
            "_model_name": "HTMLModel",
            "_view_count": null,
            "_view_module": "@jupyter-widgets/controls",
            "_view_module_version": "1.5.0",
            "_view_name": "HTMLView",
            "description": "",
            "description_tooltip": null,
            "layout": "IPY_MODEL_95e1c7cfc4e64b8a93f1a5b7912df112",
            "placeholder": "​",
            "style": "IPY_MODEL_5e6e5b734e234ea5869fe1a07f42b28d",
            "value": " 10/10 [04:55&lt;00:00, 29.72s/it]"
          }
        },
        "045a522312c54a368c6be7453ee59cb0": {
          "model_module": "@jupyter-widgets/base",
          "model_name": "LayoutModel",
          "model_module_version": "1.2.0",
          "state": {
            "_model_module": "@jupyter-widgets/base",
            "_model_module_version": "1.2.0",
            "_model_name": "LayoutModel",
            "_view_count": null,
            "_view_module": "@jupyter-widgets/base",
            "_view_module_version": "1.2.0",
            "_view_name": "LayoutView",
            "align_content": null,
            "align_items": null,
            "align_self": null,
            "border": null,
            "bottom": null,
            "display": null,
            "flex": null,
            "flex_flow": null,
            "grid_area": null,
            "grid_auto_columns": null,
            "grid_auto_flow": null,
            "grid_auto_rows": null,
            "grid_column": null,
            "grid_gap": null,
            "grid_row": null,
            "grid_template_areas": null,
            "grid_template_columns": null,
            "grid_template_rows": null,
            "height": null,
            "justify_content": null,
            "justify_items": null,
            "left": null,
            "margin": null,
            "max_height": null,
            "max_width": null,
            "min_height": null,
            "min_width": null,
            "object_fit": null,
            "object_position": null,
            "order": null,
            "overflow": null,
            "overflow_x": null,
            "overflow_y": null,
            "padding": null,
            "right": null,
            "top": null,
            "visibility": null,
            "width": null
          }
        },
        "7a7c3669a91b42658a55518ad1c628b2": {
          "model_module": "@jupyter-widgets/base",
          "model_name": "LayoutModel",
          "model_module_version": "1.2.0",
          "state": {
            "_model_module": "@jupyter-widgets/base",
            "_model_module_version": "1.2.0",
            "_model_name": "LayoutModel",
            "_view_count": null,
            "_view_module": "@jupyter-widgets/base",
            "_view_module_version": "1.2.0",
            "_view_name": "LayoutView",
            "align_content": null,
            "align_items": null,
            "align_self": null,
            "border": null,
            "bottom": null,
            "display": null,
            "flex": null,
            "flex_flow": null,
            "grid_area": null,
            "grid_auto_columns": null,
            "grid_auto_flow": null,
            "grid_auto_rows": null,
            "grid_column": null,
            "grid_gap": null,
            "grid_row": null,
            "grid_template_areas": null,
            "grid_template_columns": null,
            "grid_template_rows": null,
            "height": null,
            "justify_content": null,
            "justify_items": null,
            "left": null,
            "margin": null,
            "max_height": null,
            "max_width": null,
            "min_height": null,
            "min_width": null,
            "object_fit": null,
            "object_position": null,
            "order": null,
            "overflow": null,
            "overflow_x": null,
            "overflow_y": null,
            "padding": null,
            "right": null,
            "top": null,
            "visibility": null,
            "width": null
          }
        },
        "4cfcedfb78714ed8a1fb6b43fa8a6f1d": {
          "model_module": "@jupyter-widgets/controls",
          "model_name": "DescriptionStyleModel",
          "model_module_version": "1.5.0",
          "state": {
            "_model_module": "@jupyter-widgets/controls",
            "_model_module_version": "1.5.0",
            "_model_name": "DescriptionStyleModel",
            "_view_count": null,
            "_view_module": "@jupyter-widgets/base",
            "_view_module_version": "1.2.0",
            "_view_name": "StyleView",
            "description_width": ""
          }
        },
        "51012636beaa4df2ac3abe9c0cf56803": {
          "model_module": "@jupyter-widgets/base",
          "model_name": "LayoutModel",
          "model_module_version": "1.2.0",
          "state": {
            "_model_module": "@jupyter-widgets/base",
            "_model_module_version": "1.2.0",
            "_model_name": "LayoutModel",
            "_view_count": null,
            "_view_module": "@jupyter-widgets/base",
            "_view_module_version": "1.2.0",
            "_view_name": "LayoutView",
            "align_content": null,
            "align_items": null,
            "align_self": null,
            "border": null,
            "bottom": null,
            "display": null,
            "flex": null,
            "flex_flow": null,
            "grid_area": null,
            "grid_auto_columns": null,
            "grid_auto_flow": null,
            "grid_auto_rows": null,
            "grid_column": null,
            "grid_gap": null,
            "grid_row": null,
            "grid_template_areas": null,
            "grid_template_columns": null,
            "grid_template_rows": null,
            "height": null,
            "justify_content": null,
            "justify_items": null,
            "left": null,
            "margin": null,
            "max_height": null,
            "max_width": null,
            "min_height": null,
            "min_width": null,
            "object_fit": null,
            "object_position": null,
            "order": null,
            "overflow": null,
            "overflow_x": null,
            "overflow_y": null,
            "padding": null,
            "right": null,
            "top": null,
            "visibility": null,
            "width": null
          }
        },
        "20ed374a2d3b421d99480c0dab718152": {
          "model_module": "@jupyter-widgets/controls",
          "model_name": "ProgressStyleModel",
          "model_module_version": "1.5.0",
          "state": {
            "_model_module": "@jupyter-widgets/controls",
            "_model_module_version": "1.5.0",
            "_model_name": "ProgressStyleModel",
            "_view_count": null,
            "_view_module": "@jupyter-widgets/base",
            "_view_module_version": "1.2.0",
            "_view_name": "StyleView",
            "bar_color": null,
            "description_width": ""
          }
        },
        "95e1c7cfc4e64b8a93f1a5b7912df112": {
          "model_module": "@jupyter-widgets/base",
          "model_name": "LayoutModel",
          "model_module_version": "1.2.0",
          "state": {
            "_model_module": "@jupyter-widgets/base",
            "_model_module_version": "1.2.0",
            "_model_name": "LayoutModel",
            "_view_count": null,
            "_view_module": "@jupyter-widgets/base",
            "_view_module_version": "1.2.0",
            "_view_name": "LayoutView",
            "align_content": null,
            "align_items": null,
            "align_self": null,
            "border": null,
            "bottom": null,
            "display": null,
            "flex": null,
            "flex_flow": null,
            "grid_area": null,
            "grid_auto_columns": null,
            "grid_auto_flow": null,
            "grid_auto_rows": null,
            "grid_column": null,
            "grid_gap": null,
            "grid_row": null,
            "grid_template_areas": null,
            "grid_template_columns": null,
            "grid_template_rows": null,
            "height": null,
            "justify_content": null,
            "justify_items": null,
            "left": null,
            "margin": null,
            "max_height": null,
            "max_width": null,
            "min_height": null,
            "min_width": null,
            "object_fit": null,
            "object_position": null,
            "order": null,
            "overflow": null,
            "overflow_x": null,
            "overflow_y": null,
            "padding": null,
            "right": null,
            "top": null,
            "visibility": null,
            "width": null
          }
        },
        "5e6e5b734e234ea5869fe1a07f42b28d": {
          "model_module": "@jupyter-widgets/controls",
          "model_name": "DescriptionStyleModel",
          "model_module_version": "1.5.0",
          "state": {
            "_model_module": "@jupyter-widgets/controls",
            "_model_module_version": "1.5.0",
            "_model_name": "DescriptionStyleModel",
            "_view_count": null,
            "_view_module": "@jupyter-widgets/base",
            "_view_module_version": "1.2.0",
            "_view_name": "StyleView",
            "description_width": ""
          }
        }
      }
    }
  },
  "cells": [
    {
      "cell_type": "markdown",
      "source": [
        "# Classificação das imagens utilizando Vision Transformer (ViT)"
      ],
      "metadata": {
        "id": "wZCeDjDL31pe"
      }
    },
    {
      "cell_type": "markdown",
      "source": [
        "## Arquitetura da Solução"
      ],
      "metadata": {
        "id": "Y6pcG553p2C6"
      }
    },
    {
      "cell_type": "markdown",
      "source": [
        "## Dataset"
      ],
      "metadata": {
        "id": "CqKBo2YY4CC0"
      }
    },
    {
      "cell_type": "markdown",
      "source": [
        "O dataset escolhido está disponível no [link](https://www.kaggle.com/datasets/ahmedabdellahismail/covid-19-chest-x-ray/data), o qual é composto de **1196** imagens, pertencentes a três classes:\n",
        "\n",
        "*   Covid\n",
        "*   Virus\n",
        "*   Normal\n",
        "\n"
      ],
      "metadata": {
        "id": "O-p558uw4H07"
      }
    },
    {
      "cell_type": "markdown",
      "source": [
        "Segue abaixo o código necessário para realizar download do dataset, realizar unzip e excluir arquivos desnecessários:"
      ],
      "metadata": {
        "id": "AjBYO9zjppFu"
      }
    },
    {
      "cell_type": "code",
      "execution_count": null,
      "metadata": {
        "id": "sLmtr_XUxFaj"
      },
      "outputs": [],
      "source": [
        "!kaggle datasets download -d ahmedabdellahismail/covid-19-chest-x-ray\n",
        "!unzip /content/covid-19-chest-x-ray.zip\n",
        "!rm /content/covid-19-chest-x-ray.zip"
      ]
    },
    {
      "cell_type": "markdown",
      "source": [
        "## Imports"
      ],
      "metadata": {
        "id": "xSvdFLZd5B79"
      }
    },
    {
      "cell_type": "code",
      "source": [
        "# !pip install torch\n",
        "# !pip install torchinfo"
      ],
      "metadata": {
        "id": "uSBvbBZ014rr"
      },
      "execution_count": null,
      "outputs": []
    },
    {
      "cell_type": "code",
      "source": [
        "import os                       # for working with files\n",
        "import numpy as np              # for numerical computationss\n",
        "import pandas as pd             # for working with dataframes\n",
        "import random\n",
        "import torch\n",
        "import matplotlib.pyplot as plt # for plotting informations on graph and images using tensors\n",
        "import torch.nn as nn           # for creating  neural networks\n",
        "from torch.utils.data import DataLoader, random_split, SubsetRandomSampler # for dataloaders\n",
        "from PIL import Image           # for checking images\n",
        "import torch.nn.functional as F # for functions for calculating loss\n",
        "from torchvision import datasets, transforms   # for transforming images into tensors\n",
        "from torchvision.utils import make_grid       # for data checking\n",
        "from torchvision.datasets import ImageFolder  # for working with classes and images\n",
        "from torchsummary import summary              # for getting the summary of our model\n",
        "import torchvision\n",
        "%matplotlib inline"
      ],
      "metadata": {
        "id": "uyoFvmajpB4Z"
      },
      "execution_count": null,
      "outputs": []
    },
    {
      "cell_type": "code",
      "source": [
        "# selecionar a GPU caso exista\n",
        "# ao selecionar a GPU, a tendencia é que o codigo seja executado mais rapidamente\n",
        "device = \"cuda\" if torch.cuda.is_available() else \"cpu\"\n",
        "device"
      ],
      "metadata": {
        "colab": {
          "base_uri": "https://localhost:8080/",
          "height": 35
        },
        "id": "5f8theo7TG4p",
        "outputId": "b41eb295-6bc8-4b5a-c22d-6896ad85e0da"
      },
      "execution_count": null,
      "outputs": [
        {
          "output_type": "execute_result",
          "data": {
            "text/plain": [
              "'cuda'"
            ],
            "application/vnd.google.colaboratory.intrinsic+json": {
              "type": "string"
            }
          },
          "metadata": {},
          "execution_count": 6
        }
      ]
    },
    {
      "cell_type": "markdown",
      "source": [
        "## Transfer-Learning"
      ],
      "metadata": {
        "id": "6kLZ6GoT5FxO"
      }
    },
    {
      "cell_type": "markdown",
      "source": [
        "### O que é?"
      ],
      "metadata": {
        "id": "W9nDjzfPzhUT"
      }
    },
    {
      "cell_type": "markdown",
      "source": [
        "É a técnica de utilizar um modelo pré-treinado para outra tarefa, a fim de adaptá-lo para ser a base para um outro modelo.\n",
        "\n",
        "Nesse caso, utilizaremos o modelo ViT_B_16 para realizar classificação do presente dataset.\n",
        "\n",
        "Treinar um modelo \"*from scratch*\" tornaria a tarefa de classificação muito menos acertiva, uma vez que a base de dados é pequena para tal, assim como a disponibilidade de recursos computacionais para treiná-lo."
      ],
      "metadata": {
        "id": "c49wyki9zj8Z"
      }
    },
    {
      "cell_type": "markdown",
      "source": [
        "### Overview"
      ],
      "metadata": {
        "id": "kybkyezk0sgR"
      }
    },
    {
      "cell_type": "markdown",
      "source": [
        "Primeiramente, serão carregados os pesos do modelo pré-treinado ViT_B_16, dessa forma, será utilizada uma técnica de **Transfer Learning**.\n"
      ],
      "metadata": {
        "id": "R8rF6W3zWyD6"
      }
    },
    {
      "cell_type": "code",
      "source": [
        "pretrained_vit_w = torchvision.models.ViT_B_16_Weights.DEFAULT  # pesos pre-treinados ViT-Base"
      ],
      "metadata": {
        "id": "jBLVR0wUvrlH"
      },
      "execution_count": null,
      "outputs": []
    },
    {
      "cell_type": "code",
      "source": [
        "print(pretrained_vit_w.transforms())  # transformações utilizadas no modelo-base"
      ],
      "metadata": {
        "colab": {
          "base_uri": "https://localhost:8080/"
        },
        "id": "NVIP74oIy6sM",
        "outputId": "a3929c29-a6c4-41e0-d01c-0aa3e8b4bf6b"
      },
      "execution_count": null,
      "outputs": [
        {
          "output_type": "stream",
          "name": "stdout",
          "text": [
            "ImageClassification(\n",
            "    crop_size=[224]\n",
            "    resize_size=[256]\n",
            "    mean=[0.485, 0.456, 0.406]\n",
            "    std=[0.229, 0.224, 0.225]\n",
            "    interpolation=InterpolationMode.BILINEAR\n",
            ")\n"
          ]
        }
      ]
    },
    {
      "cell_type": "markdown",
      "source": [
        "## Pré-processamento dos dados"
      ],
      "metadata": {
        "id": "d6COAk0h1vpr"
      }
    },
    {
      "cell_type": "code",
      "source": [
        "# Define a transformação a ser aplicada nas imagens\n",
        "transform = pretrained_vit_w.transforms()\n",
        "\n",
        "# Carrega o dataset da pasta, assumindo que as subpastas são as classes\n",
        "dataset = datasets.ImageFolder(root=\"/content/Data/\", transform=transform)\n",
        "\n",
        "# Defina a proporção de dados de treinamento e teste\n",
        "train_ratio = 0.8\n",
        "\n",
        "# Calcula os tamanhos dos conjuntos de treino e teste\n",
        "train_size = int(train_ratio * len(dataset))\n",
        "test_size = len(dataset) - train_size\n",
        "\n",
        "# Divide o dataset em conjuntos de treino e teste\n",
        "train_dataset, test_dataset = random_split(dataset, [train_size, test_size])\n",
        "\n",
        "# Cria os data loaders para carregar os dados em mini-lotes\n",
        "train_loader = DataLoader(train_dataset, batch_size=32, shuffle=True, num_workers=2, pin_memory=True)\n",
        "test_loader = DataLoader(test_dataset, batch_size=32, num_workers=2, pin_memory=True)"
      ],
      "metadata": {
        "id": "vfDEsQSsoy5J"
      },
      "execution_count": null,
      "outputs": []
    },
    {
      "cell_type": "code",
      "source": [
        "# Conta a quantidade de imagens por classe no conjunto de treinamento\n",
        "train_class_count = {}\n",
        "\n",
        "for _, label in train_dataset:\n",
        "    if label in train_class_count:\n",
        "        train_class_count[label] += 1\n",
        "    else:\n",
        "        train_class_count[label] = 1\n",
        "# Conta a quantidade de imagens por classe no conjunto de teste\n",
        "test_class_count = {}\n",
        "for _, label in test_dataset:\n",
        "    if label in test_class_count:\n",
        "        test_class_count[label] += 1\n",
        "    else:\n",
        "        test_class_count[label] = 1\n",
        "\n",
        "# Mostra a quantidade de imagens por classe nos conjuntos de treinamento e teste\n",
        "print(f'Tamanho do conjunto de treino: {len(train_loader.dataset)}')\n",
        "print(\"Quantidade de imagens por classe no conjunto de treinamento:\")\n",
        "for class_idx, count in train_class_count.items():\n",
        "    print(f\"Classe {class_idx}: {count} imagens\")\n",
        "\n",
        "print(f'\\nTamanho do conjunto de teste: {len(test_loader.dataset)}')\n",
        "print(\"Quantidade de imagens por classe no conjunto de teste:\")\n",
        "for class_idx, count in test_class_count.items():\n",
        "    print(f\"Classe {class_idx}: {count} imagens\")\n"
      ],
      "metadata": {
        "colab": {
          "base_uri": "https://localhost:8080/"
        },
        "id": "vO6gSpRVpRat",
        "outputId": "94f36728-0f43-477d-e252-d822385fa9d0"
      },
      "execution_count": null,
      "outputs": [
        {
          "output_type": "stream",
          "name": "stdout",
          "text": [
            "Tamanho do conjunto de treino: 956\n",
            "Quantidade de imagens por classe no conjunto de treinamento:\n",
            "Classe 2: 353 imagens\n",
            "Classe 0: 238 imagens\n",
            "Classe 1: 365 imagens\n",
            "\n",
            "Tamanho do conjunto de teste: 240\n",
            "Quantidade de imagens por classe no conjunto de teste:\n",
            "Classe 1: 103 imagens\n",
            "Classe 2: 80 imagens\n",
            "Classe 0: 57 imagens\n"
          ]
        }
      ]
    },
    {
      "cell_type": "markdown",
      "source": [
        "## Definindo nosso modelo"
      ],
      "metadata": {
        "id": "jM1qq-fB12sU"
      }
    },
    {
      "cell_type": "code",
      "source": [
        "pretrained_vit = torchvision.models.vit_b_16(    #utilizando o modelo-base, com os pesos padrao do modelo\n",
        "    weights=pretrained_vit_w\n",
        "    ).to(device)\n",
        "\n",
        "class_names = dataset.classes #[covid, normal, virus]\n",
        "\n",
        "for parameter in pretrained_vit.parameters():\n",
        "    parameter.requires_grad = False\n",
        "\n",
        "torch.manual_seed(42)\n",
        "torch.cuda.manual_seed(42)\n",
        "\n",
        "pretrained_vit.heads = nn.Linear(in_features=768, #16x16x3 = 768\n",
        "                                 out_features=len(class_names)\n",
        "                                 ).to(device)"
      ],
      "metadata": {
        "id": "a1pnLoJdqVhg",
        "colab": {
          "base_uri": "https://localhost:8080/"
        },
        "outputId": "5d6ea2b3-8775-4e83-ca60-c1983a7f61eb"
      },
      "execution_count": null,
      "outputs": [
        {
          "output_type": "stream",
          "name": "stderr",
          "text": [
            "Downloading: \"https://download.pytorch.org/models/vit_b_16-c867db91.pth\" to /root/.cache/torch/hub/checkpoints/vit_b_16-c867db91.pth\n",
            "100%|██████████| 330M/330M [00:01<00:00, 178MB/s]\n"
          ]
        }
      ]
    },
    {
      "cell_type": "code",
      "source": [
        "from torchinfo import summary\n",
        "\n",
        "summary(model=pretrained_vit,\n",
        "        input_size=(32, 3, 224, 224), # (batch_size, color_channels, height, width)\n",
        "        # col_names=[\"input_size\"], # uncomment for smaller output\n",
        "        col_names=[\"input_size\", \"output_size\", \"num_params\", \"trainable\"],\n",
        "        col_width=20,\n",
        "        row_settings=[\"var_names\"]\n",
        ")"
      ],
      "metadata": {
        "colab": {
          "base_uri": "https://localhost:8080/",
          "height": 383
        },
        "id": "SbOAbv3Bt-4j",
        "outputId": "a41094c9-0f55-4e5a-d543-629303f09d3e"
      },
      "execution_count": null,
      "outputs": [
        {
          "output_type": "error",
          "ename": "ModuleNotFoundError",
          "evalue": "No module named 'torchinfo'",
          "traceback": [
            "\u001b[0;31m---------------------------------------------------------------------------\u001b[0m",
            "\u001b[0;31mModuleNotFoundError\u001b[0m                       Traceback (most recent call last)",
            "\u001b[0;32m<ipython-input-12-a9ef4a791577>\u001b[0m in \u001b[0;36m<cell line: 1>\u001b[0;34m()\u001b[0m\n\u001b[0;32m----> 1\u001b[0;31m \u001b[0;32mfrom\u001b[0m \u001b[0mtorchinfo\u001b[0m \u001b[0;32mimport\u001b[0m \u001b[0msummary\u001b[0m\u001b[0;34m\u001b[0m\u001b[0;34m\u001b[0m\u001b[0m\n\u001b[0m\u001b[1;32m      2\u001b[0m \u001b[0;34m\u001b[0m\u001b[0m\n\u001b[1;32m      3\u001b[0m summary(model=pretrained_vit,\n\u001b[1;32m      4\u001b[0m         \u001b[0minput_size\u001b[0m\u001b[0;34m=\u001b[0m\u001b[0;34m(\u001b[0m\u001b[0;36m32\u001b[0m\u001b[0;34m,\u001b[0m \u001b[0;36m3\u001b[0m\u001b[0;34m,\u001b[0m \u001b[0;36m224\u001b[0m\u001b[0;34m,\u001b[0m \u001b[0;36m224\u001b[0m\u001b[0;34m)\u001b[0m\u001b[0;34m,\u001b[0m \u001b[0;31m# (batch_size, color_channels, height, width)\u001b[0m\u001b[0;34m\u001b[0m\u001b[0;34m\u001b[0m\u001b[0m\n\u001b[1;32m      5\u001b[0m         \u001b[0;31m# col_names=[\"input_size\"], # uncomment for smaller output\u001b[0m\u001b[0;34m\u001b[0m\u001b[0;34m\u001b[0m\u001b[0m\n",
            "\u001b[0;31mModuleNotFoundError\u001b[0m: No module named 'torchinfo'",
            "",
            "\u001b[0;31m---------------------------------------------------------------------------\u001b[0;32m\nNOTE: If your import is failing due to a missing package, you can\nmanually install dependencies using either !pip or !apt.\n\nTo view examples of installing some common dependencies, click the\n\"Open Examples\" button below.\n\u001b[0;31m---------------------------------------------------------------------------\u001b[0m\n"
          ],
          "errorDetails": {
            "actions": [
              {
                "action": "open_url",
                "actionText": "Open Examples",
                "url": "/notebooks/snippets/importing_libraries.ipynb"
              }
            ]
          }
        }
      ]
    },
    {
      "cell_type": "markdown",
      "source": [
        "## Treino e Teste"
      ],
      "metadata": {
        "id": "iwtd9V2KC-IH"
      }
    },
    {
      "cell_type": "code",
      "source": [
        "from tqdm.auto import tqdm\n",
        "from typing import Dict, List, Tuple\n",
        "\n",
        "def train_step(model: torch.nn.Module,\n",
        "               dataloader: torch.utils.data.DataLoader,\n",
        "               loss_fn: torch.nn.Module,\n",
        "               optimizer: torch.optim.Optimizer,\n",
        "               device: torch.device) -> Tuple[float, float]:\n",
        "\n",
        "    # colocar o modelo em modo de treinamento\n",
        "    model.train()\n",
        "\n",
        "    # inicializar valores com 0\n",
        "    train_loss, train_acc = 0, 0\n",
        "\n",
        "    # loop sobre os batches\n",
        "    for batch, (X, y) in enumerate(dataloader):\n",
        "        # enviar os dados para o device\n",
        "\n",
        "        X, y = X.to(device), y.to(device)\n",
        "\n",
        "        # forward\n",
        "        y_pred = model(X)\n",
        "\n",
        "        # calcular loss (e acumular)\n",
        "        loss = loss_fn(y_pred, y)\n",
        "        train_loss += loss.item()\n",
        "\n",
        "        # resetar o gradiente do otimizador antes do backpropagation\n",
        "        optimizer.zero_grad()\n",
        "\n",
        "\n",
        "        loss.backward()\n",
        "\n",
        "        # ativar o otimizador\n",
        "        optimizer.step()\n",
        "\n",
        "        # calcular acuracia sobre os batches\n",
        "\n",
        "        y_pred_class = torch.argmax(torch.softmax(y_pred, dim=1), dim=1)\n",
        "        train_acc += (y_pred_class == y).sum().item()/len(y_pred)\n",
        "\n",
        "    # ajustar as metricas para a media dos batches\n",
        "    train_loss = train_loss / len(dataloader)\n",
        "    train_acc = train_acc / len(dataloader)\n",
        "    return train_loss, train_acc\n",
        "\n",
        "def test_step(model: torch.nn.Module,\n",
        "              dataloader: torch.utils.data.DataLoader,\n",
        "              loss_fn: torch.nn.Module,\n",
        "              device: torch.device) -> Tuple[float, float]:\n",
        "\n",
        "    # coloca o modelo em modo eval\n",
        "    model.eval()\n",
        "\n",
        "    # iniciar valores com 0\n",
        "    test_loss, test_acc = 0, 0\n",
        "\n",
        "    # ligar inference context manager\n",
        "    with torch.inference_mode():\n",
        "        # loop sobre os batches\n",
        "        for batch, (X, y) in enumerate(dataloader):\n",
        "            # enviar os dados para o device\n",
        "            X, y = X.to(device), y.to(device)\n",
        "\n",
        "            # forward\n",
        "            test_pred_logits = model(X)\n",
        "\n",
        "            # calcular e \"acumular\" loss\n",
        "            loss = loss_fn(test_pred_logits, y)\n",
        "            test_loss += loss.item()\n",
        "\n",
        "            # calcular acuracia sobre os batches\n",
        "            test_pred_labels = test_pred_logits.argmax(dim=1)\n",
        "            test_acc += ((test_pred_labels == y).sum().item()/len(test_pred_labels))\n",
        "\n",
        "    # ajustar as metricas para a media dos batches\n",
        "    test_loss = test_loss / len(dataloader)\n",
        "    test_acc = test_acc / len(dataloader)\n",
        "    return test_loss, test_acc\n",
        "\n",
        "def train(model: torch.nn.Module,\n",
        "          train_dataloader: torch.utils.data.DataLoader,\n",
        "          test_dataloader: torch.utils.data.DataLoader,\n",
        "          optimizer: torch.optim.Optimizer,\n",
        "          loss_fn: torch.nn.Module,\n",
        "          epochs: int,\n",
        "          device: torch.device) -> Dict[str, List]:\n",
        "\n",
        "    # resultados\n",
        "    results = {\"train_loss\": [],\n",
        "               \"train_acc\": [],\n",
        "               \"test_loss\": [],\n",
        "               \"test_acc\": []\n",
        "    }\n",
        "\n",
        "    model.to(device)\n",
        "\n",
        "    # loop pelos passos de treino e teste de acordo com o numero de epocas definido\n",
        "    for epoch in tqdm(range(epochs)):\n",
        "        train_loss, train_acc = train_step(model=model,\n",
        "                                          dataloader=train_dataloader,\n",
        "                                          loss_fn=loss_fn,\n",
        "                                          optimizer=optimizer,\n",
        "                                          device=device)\n",
        "        test_loss, test_acc = test_step(model=model,\n",
        "          dataloader=test_dataloader,\n",
        "          loss_fn=loss_fn,\n",
        "          device=device)\n",
        "\n",
        "        # print para cada epoca\n",
        "        print(\n",
        "          f\"Epoch: {epoch+1} | \"\n",
        "          f\"train_loss: {train_loss:.4f} | \"\n",
        "          f\"train_acc: {train_acc:.4f} | \"\n",
        "          f\"test_loss: {test_loss:.4f} | \"\n",
        "          f\"test_acc: {test_acc:.4f}\"\n",
        "        )\n",
        "\n",
        "        results[\"train_loss\"].append(train_loss)\n",
        "        results[\"train_acc\"].append(train_acc)\n",
        "        results[\"test_loss\"].append(test_loss)\n",
        "        results[\"test_acc\"].append(test_acc)\n",
        "\n",
        "    return results"
      ],
      "metadata": {
        "id": "wLOVjxFfvNPs"
      },
      "execution_count": null,
      "outputs": []
    },
    {
      "cell_type": "code",
      "source": [
        "optimizer = torch.optim.Adam(params=pretrained_vit.parameters(), lr=1e-3)\n",
        "\n",
        "loss_fn = torch.nn.CrossEntropyLoss()\n",
        "# setar seeds manualmente\n",
        "torch.manual_seed(42)\n",
        "torch.cuda.manual_seed(42)\n",
        "\n",
        "pretrained_vit_results = train(model=pretrained_vit,\n",
        "                                      train_dataloader=train_loader,\n",
        "                                      test_dataloader=test_loader,\n",
        "                                      optimizer=optimizer,\n",
        "                                      loss_fn=loss_fn,\n",
        "                                      epochs=10,\n",
        "                                      device=device)"
      ],
      "metadata": {
        "colab": {
          "base_uri": "https://localhost:8080/",
          "height": 223,
          "referenced_widgets": [
            "cb846a5ae892456dae141b375e5cf9ee",
            "ffbce68366834a60b27bc7153dcd94cb",
            "771951922fac4061ac958784eb19a7c1",
            "c8cbadb5776249d3a860e37fd44a7bf1",
            "045a522312c54a368c6be7453ee59cb0",
            "7a7c3669a91b42658a55518ad1c628b2",
            "4cfcedfb78714ed8a1fb6b43fa8a6f1d",
            "51012636beaa4df2ac3abe9c0cf56803",
            "20ed374a2d3b421d99480c0dab718152",
            "95e1c7cfc4e64b8a93f1a5b7912df112",
            "5e6e5b734e234ea5869fe1a07f42b28d"
          ]
        },
        "id": "-TR_RKrkwHuR",
        "outputId": "fec5adee-7fce-407e-e0c8-50af46d5b9d3"
      },
      "execution_count": null,
      "outputs": [
        {
          "output_type": "display_data",
          "data": {
            "text/plain": [
              "  0%|          | 0/10 [00:00<?, ?it/s]"
            ],
            "application/vnd.jupyter.widget-view+json": {
              "version_major": 2,
              "version_minor": 0,
              "model_id": "cb846a5ae892456dae141b375e5cf9ee"
            }
          },
          "metadata": {}
        },
        {
          "output_type": "stream",
          "name": "stdout",
          "text": [
            "Epoch: 1 | train_loss: 0.6248 | train_acc: 0.7624 | test_loss: 0.3302 | test_acc: 0.8945\n",
            "Epoch: 2 | train_loss: 0.2954 | train_acc: 0.9122 | test_loss: 0.2300 | test_acc: 0.9414\n",
            "Epoch: 3 | train_loss: 0.2372 | train_acc: 0.9329 | test_loss: 0.2021 | test_acc: 0.9453\n",
            "Epoch: 4 | train_loss: 0.2071 | train_acc: 0.9414 | test_loss: 0.1740 | test_acc: 0.9492\n",
            "Epoch: 5 | train_loss: 0.1920 | train_acc: 0.9496 | test_loss: 0.1602 | test_acc: 0.9570\n",
            "Epoch: 6 | train_loss: 0.1746 | train_acc: 0.9487 | test_loss: 0.1484 | test_acc: 0.9609\n",
            "Epoch: 7 | train_loss: 0.1625 | train_acc: 0.9540 | test_loss: 0.1414 | test_acc: 0.9453\n",
            "Epoch: 8 | train_loss: 0.1495 | train_acc: 0.9580 | test_loss: 0.1388 | test_acc: 0.9648\n",
            "Epoch: 9 | train_loss: 0.1398 | train_acc: 0.9583 | test_loss: 0.1310 | test_acc: 0.9609\n",
            "Epoch: 10 | train_loss: 0.1329 | train_acc: 0.9632 | test_loss: 0.1293 | test_acc: 0.9453\n"
          ]
        }
      ]
    },
    {
      "cell_type": "markdown",
      "source": [
        "## Resultados"
      ],
      "metadata": {
        "id": "u59d9xQ0DsrF"
      }
    },
    {
      "cell_type": "code",
      "source": [
        "def plot_loss_curves(results):\n",
        "\n",
        "    loss = results[\"train_loss\"]\n",
        "    test_loss = results[\"test_loss\"]\n",
        "\n",
        "    accuracy = results[\"train_acc\"]\n",
        "    test_accuracy = results[\"test_acc\"]\n",
        "\n",
        "    epochs = range(len(results[\"train_loss\"]))\n",
        "\n",
        "    plt.figure(figsize=(15, 7))\n",
        "\n",
        "    # Plot loss\n",
        "    plt.subplot(1, 2, 1)\n",
        "    plt.plot(epochs, loss, label=\"train_loss\")\n",
        "    plt.plot(epochs, test_loss, label=\"test_loss\")\n",
        "    plt.title(\"Loss\")\n",
        "    plt.xlabel(\"Epochs\")\n",
        "    plt.legend()\n",
        "\n",
        "    # Plot accuracy\n",
        "    plt.subplot(1, 2, 2)\n",
        "    plt.plot(epochs, accuracy, label=\"train_accuracy\")\n",
        "    plt.plot(epochs, test_accuracy, label=\"test_accuracy\")\n",
        "    plt.title(\"Accuracy\")\n",
        "    plt.xlabel(\"Epochs\")\n",
        "    plt.legend()\n"
      ],
      "metadata": {
        "id": "oPEEXJ1xDtVA"
      },
      "execution_count": null,
      "outputs": []
    },
    {
      "cell_type": "code",
      "source": [
        "plot_loss_curves(pretrained_vit_results)"
      ],
      "metadata": {
        "colab": {
          "base_uri": "https://localhost:8080/",
          "height": 641
        },
        "id": "fkvxy9-YDyYm",
        "outputId": "9a0d74b7-b8e9-4d62-8f47-e7c8975bdbf1"
      },
      "execution_count": null,
      "outputs": [
        {
          "output_type": "display_data",
          "data": {
            "text/plain": [
              "<Figure size 1500x700 with 2 Axes>"
            ],
            "image/png": "[encoded data removed]"
          },
          "metadata": {}
        }
      ]
    }
  ]
}