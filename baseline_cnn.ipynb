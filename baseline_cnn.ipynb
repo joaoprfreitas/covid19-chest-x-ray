{
  "cells": [
    {
      "cell_type": "markdown",
      "metadata": {
        "id": "wZCeDjDL31pe"
      },
      "source": [
        "# Classificação das imagens utilizando uma CNN"
      ]
    },
    {
      "cell_type": "markdown",
      "metadata": {
        "id": "Y6pcG553p2C6"
      },
      "source": [
        "## Arquitetura da Solução"
      ]
    },
    {
      "cell_type": "markdown",
      "metadata": {
        "id": "CqKBo2YY4CC0"
      },
      "source": [
        "## Dataset"
      ]
    },
    {
      "cell_type": "markdown",
      "metadata": {
        "id": "O-p558uw4H07"
      },
      "source": [
        "O dataset escolhido está disponível no [link](https://www.kaggle.com/datasets/ahmedabdellahismail/covid-19-chest-x-ray/data), o qual é composto de **1196** imagens, pertencentes a três classes:\n",
        "\n",
        "*   Covid\n",
        "*   Virus\n",
        "*   Normal\n",
        "\n"
      ]
    },
    {
      "cell_type": "markdown",
      "metadata": {
        "id": "AjBYO9zjppFu"
      },
      "source": [
        "Segue abaixo o código necessário para realizar download do dataset, realizar unzip e excluir arquivos desnecessários:"
      ]
    },
    {
      "cell_type": "code",
      "execution_count": 70,
      "metadata": {
        "colab": {
          "base_uri": "https://localhost:8080/"
        },
        "id": "sLmtr_XUxFaj",
        "outputId": "5fee7cb7-8353-451b-a35d-aa6131cd578c"
      },
      "outputs": [
        {
          "name": "stdout",
          "output_type": "stream",
          "text": [
            "Dataset URL: https://www.kaggle.com/datasets/ahmedabdellahismail/covid-19-chest-x-ray\n",
            "License(s): Apache 2.0\n",
            "covid-19-chest-x-ray.zip: Skipping, found more recently modified local copy (use --force to force download)\n",
            "unzip:  cannot find or open /content/covid-19-chest-x-ray.zip, /content/covid-19-chest-x-ray.zip.zip or /content/covid-19-chest-x-ray.zip.ZIP.\n",
            "rm: cannot remove '/content/covid-19-chest-x-ray.zip': No such file or directory\n"
          ]
        }
      ],
      "source": [
        "!kaggle datasets download -d ahmedabdellahismail/covid-19-chest-x-ray\n",
        "!unzip /content/covid-19-chest-x-ray.zip\n",
        "!rm /content/covid-19-chest-x-ray.zip"
      ]
    },
    {
      "cell_type": "markdown",
      "metadata": {
        "id": "xSvdFLZd5B79"
      },
      "source": [
        "## Imports"
      ]
    },
    {
      "cell_type": "code",
      "execution_count": 71,
      "metadata": {
        "id": "uSBvbBZ014rr"
      },
      "outputs": [],
      "source": [
        "# !pip install torch\n",
        "# !pip install torchinfo"
      ]
    },
    {
      "cell_type": "code",
      "execution_count": 72,
      "metadata": {
        "id": "uyoFvmajpB4Z"
      },
      "outputs": [],
      "source": [
        "import os                       # for working with files\n",
        "import numpy as np              # for numerical computationss\n",
        "import pandas as pd             # for working with dataframes\n",
        "import random\n",
        "import torch\n",
        "import matplotlib.pyplot as plt # for plotting informations on graph and images using tensors\n",
        "import torch.nn as nn           # for creating  neural networks\n",
        "from torch.utils.data import DataLoader, random_split, ConcatDataset # for dataloaders\n",
        "from PIL import Image           # for checking images\n",
        "import torch.nn.functional as F # for functions for calculating loss\n",
        "from torchvision import datasets, transforms   # for transforming images into tensors\n",
        "from torchvision.utils import make_grid       # for data checking\n",
        "from torchvision.datasets import ImageFolder  # for working with classes and images\n",
        "from torchsummary import summary              # for getting the summary of our model\n",
        "from sklearn.metrics import confusion_matrix, classification_report\n",
        "import torchvision\n",
        "%matplotlib inline"
      ]
    },
    {
      "cell_type": "code",
      "execution_count": 73,
      "metadata": {
        "colab": {
          "base_uri": "https://localhost:8080/",
          "height": 35
        },
        "id": "5f8theo7TG4p",
        "outputId": "27dddd70-7d21-4fee-8633-20536ebb7de1"
      },
      "outputs": [
        {
          "data": {
            "text/plain": [
              "'cuda'"
            ]
          },
          "execution_count": 73,
          "metadata": {},
          "output_type": "execute_result"
        }
      ],
      "source": [
        "# selecionar a GPU caso exista\n",
        "# ao selecionar a GPU, a tendencia é que o codigo seja executado mais rapidamente\n",
        "device = \"cuda\" if torch.cuda.is_available() else \"cpu\"\n",
        "device"
      ]
    },
    {
      "cell_type": "markdown",
      "metadata": {
        "id": "d6COAk0h1vpr"
      },
      "source": [
        "## Pré-processamento dos dados"
      ]
    },
    {
      "cell_type": "code",
      "execution_count": 76,
      "metadata": {
        "id": "vfDEsQSsoy5J"
      },
      "outputs": [],
      "source": [
        "# Define a transformação a ser aplicada nas imagens\n",
        "# transform = pretrained_vit_w.transforms()\n",
        "\n",
        "transform = transforms.Compose([\n",
        "    # transforms.RandomHorizontalFlip(p=1.0),\n",
        "    transforms.Resize((224, 224)),\n",
        "    # transforms.Grayscale(num_output_channels=1),\n",
        "    transforms.ToTensor()\n",
        "])\n",
        "\n",
        "transform2 = transforms.Compose([\n",
        "    transforms.RandomHorizontalFlip(p=1.0),\n",
        "    transforms.Resize((224, 224)),\n",
        "    # transforms.Grayscale(num_output_channels=1),\n",
        "    transforms.ToTensor()\n",
        "])\n",
        "\n",
        "# Carrega o dataset da pasta, assumindo que as subpastas são as classes\n",
        "originalDataset = datasets.ImageFolder(root=\"Data/\", transform=transform)\n",
        "flippedDataset = datasets.ImageFolder(root=\"Data/\", transform=transform2)\n",
        "\n",
        "dataset = ConcatDataset([originalDataset, flippedDataset])\n",
        "\n",
        "class_names = originalDataset.classes # [covid, normal, virus]\n",
        "\n",
        "# Defina a proporção de dados de treinamento e teste\n",
        "train_ratio = 0.7\n",
        "validation_ratio = 0.15\n",
        "\n",
        "# Calcula os tamanhos dos conjuntos de treino e teste\n",
        "train_size = int(train_ratio * len(dataset))\n",
        "validation_size = int(validation_ratio * len(dataset))\n",
        "test_size = len(dataset) - train_size - validation_size\n",
        "\n",
        "# Divide o dataset em conjuntos de treino e teste\n",
        "train_dataset, validation_dataset, test_dataset = random_split(dataset, [train_size, validation_size, test_size])\n",
        "\n",
        "# Cria os data loaders para carregar os dados em mini-lotes\n",
        "train_loader = DataLoader(train_dataset, batch_size=32, shuffle=True, num_workers=2, pin_memory=True)\n",
        "validation_loader = DataLoader(validation_dataset, batch_size=32, num_workers=2, pin_memory=True)\n",
        "test_loader = DataLoader(test_dataset, batch_size=32, num_workers=2, pin_memory=True)"
      ]
    },
    {
      "cell_type": "code",
      "execution_count": 77,
      "metadata": {
        "colab": {
          "base_uri": "https://localhost:8080/"
        },
        "id": "vO6gSpRVpRat",
        "outputId": "74d9b8eb-fed8-47f6-e64a-57ba628bd067"
      },
      "outputs": [
        {
          "name": "stdout",
          "output_type": "stream",
          "text": [
            "Tamanho do conjunto de treino: 1674\n",
            "Quantidade de imagens por classe no conjunto de treinamento:\n",
            "Classe 1: 654 imagens\n",
            "Classe 2: 603 imagens\n",
            "Classe 0: 417 imagens\n",
            "Tamanho do conjunto de validação: 358\n",
            "Quantidade de imagens por classe no conjunto de validação:\n",
            "Classe 2: 143 imagens\n",
            "Classe 0: 91 imagens\n",
            "Classe 1: 124 imagens\n",
            "\n",
            "Tamanho do conjunto de teste: 360\n",
            "Quantidade de imagens por classe no conjunto de teste:\n",
            "Classe 0: 82 imagens\n",
            "Classe 2: 120 imagens\n",
            "Classe 1: 158 imagens\n"
          ]
        }
      ],
      "source": [
        "# Conta a quantidade de imagens por classe no conjunto de treinamento\n",
        "train_class_count = {}\n",
        "\n",
        "for _, label in train_dataset:\n",
        "    if label in train_class_count:\n",
        "        train_class_count[label] += 1\n",
        "    else:\n",
        "        train_class_count[label] = 1\n",
        "\n",
        "# Conta a quantidade de imagens por classe no conjunto de validacao\n",
        "validation_class_count = {}\n",
        "\n",
        "for _, label in validation_dataset:\n",
        "    if label in validation_class_count:\n",
        "        validation_class_count[label] += 1\n",
        "    else:\n",
        "        validation_class_count[label] = 1\n",
        "\n",
        "# Conta a quantidade de imagens por classe no conjunto de teste\n",
        "test_class_count = {}\n",
        "for _, label in test_dataset:\n",
        "    if label in test_class_count:\n",
        "        test_class_count[label] += 1\n",
        "    else:\n",
        "        test_class_count[label] = 1\n",
        "\n",
        "# Mostra a quantidade de imagens por classe nos conjuntos de treinamento e teste\n",
        "print(f'Tamanho do conjunto de treino: {len(train_loader.dataset)}')\n",
        "print(\"Quantidade de imagens por classe no conjunto de treinamento:\")\n",
        "for class_idx, count in train_class_count.items():\n",
        "    print(f\"Classe {class_idx}: {count} imagens\")\n",
        "\n",
        "# Mostra a quantidade de imagens por classe nos conjuntos de treinamento e teste\n",
        "print(f'Tamanho do conjunto de validação: {len(validation_loader.dataset)}')\n",
        "print(\"Quantidade de imagens por classe no conjunto de validação:\")\n",
        "for class_idx, count in validation_class_count.items():\n",
        "    print(f\"Classe {class_idx}: {count} imagens\")\n",
        "\n",
        "print(f'\\nTamanho do conjunto de teste: {len(test_loader.dataset)}')\n",
        "print(\"Quantidade de imagens por classe no conjunto de teste:\")\n",
        "for class_idx, count in test_class_count.items():\n",
        "    print(f\"Classe {class_idx}: {count} imagens\")\n"
      ]
    },
    {
      "cell_type": "markdown",
      "metadata": {
        "id": "jM1qq-fB12sU"
      },
      "source": [
        "## Definindo nosso modelo"
      ]
    },
    {
      "cell_type": "code",
      "execution_count": 78,
      "metadata": {
        "colab": {
          "base_uri": "https://localhost:8080/"
        },
        "id": "a1pnLoJdqVhg",
        "outputId": "6460af82-3201-43cf-fbda-20c92d7ef24b"
      },
      "outputs": [],
      "source": [
        "class MyCNN(nn.Module):\n",
        "    def __init__(self, num_diseases):\n",
        "        super().__init__()\n",
        "\n",
        "        self.features = nn.Sequential(\n",
        "            # Entrada: 3x224x224 (3 canais de cor)\n",
        "            nn.Conv2d(3, 8, kernel_size=3, stride=1, padding=1),\n",
        "            nn.BatchNorm2d(8),\n",
        "            nn.ReLU(),\n",
        "            nn.MaxPool2d(kernel_size=2, stride=2),\n",
        "            # Saída: 8x112x112\n",
        "\n",
        "            # Entrada: 8x112x112\n",
        "            nn.Conv2d(8, 16, kernel_size=3, stride=1, padding=1),\n",
        "            nn.BatchNorm2d(16),\n",
        "            nn.ReLU(),\n",
        "            nn.MaxPool2d(kernel_size=2, stride=2),\n",
        "            # Saída: 16x56x56\n",
        "        )\n",
        "\n",
        "        self.classifier = nn.Sequential(\n",
        "            nn.AdaptiveMaxPool2d((1, 1)), # Global Max Pooling\n",
        "            nn.Flatten(),\n",
        "            nn.Linear(16, num_diseases)  # Mapeia diretamente para o número de doenças\n",
        "        )\n",
        "\n",
        "    def forward(self, xb):\n",
        "        xb = self.features(xb)\n",
        "        xb = self.classifier(xb)\n",
        "        return xb\n",
        "    \n",
        "\n",
        "model = MyCNN(len(class_names)).to(device)\n",
        "\n",
        "torch.manual_seed(42)\n",
        "torch.cuda.manual_seed(42)"
      ]
    },
    {
      "cell_type": "code",
      "execution_count": 79,
      "metadata": {
        "colab": {
          "base_uri": "https://localhost:8080/"
        },
        "id": "SbOAbv3Bt-4j",
        "outputId": "9a11d329-f373-4ec7-9a07-1694d77f551b"
      },
      "outputs": [
        {
          "data": {
            "text/plain": [
              "========================================================================================================================\n",
              "Layer (type (var_name))                  Input Shape          Output Shape         Param #              Trainable\n",
              "========================================================================================================================\n",
              "MyCNN (MyCNN)                            [32, 3, 224, 224]    [32, 3]              --                   True\n",
              "├─Sequential (features)                  [32, 3, 224, 224]    [32, 16, 56, 56]     --                   True\n",
              "│    └─Conv2d (0)                        [32, 3, 224, 224]    [32, 8, 224, 224]    224                  True\n",
              "│    └─BatchNorm2d (1)                   [32, 8, 224, 224]    [32, 8, 224, 224]    16                   True\n",
              "│    └─ReLU (2)                          [32, 8, 224, 224]    [32, 8, 224, 224]    --                   --\n",
              "│    └─MaxPool2d (3)                     [32, 8, 224, 224]    [32, 8, 112, 112]    --                   --\n",
              "│    └─Conv2d (4)                        [32, 8, 112, 112]    [32, 16, 112, 112]   1,168                True\n",
              "│    └─BatchNorm2d (5)                   [32, 16, 112, 112]   [32, 16, 112, 112]   32                   True\n",
              "│    └─ReLU (6)                          [32, 16, 112, 112]   [32, 16, 112, 112]   --                   --\n",
              "│    └─MaxPool2d (7)                     [32, 16, 112, 112]   [32, 16, 56, 56]     --                   --\n",
              "├─Sequential (classifier)                [32, 16, 56, 56]     [32, 3]              --                   True\n",
              "│    └─AdaptiveMaxPool2d (0)             [32, 16, 56, 56]     [32, 16, 1, 1]       --                   --\n",
              "│    └─Flatten (1)                       [32, 16, 1, 1]       [32, 16]             --                   --\n",
              "│    └─Linear (2)                        [32, 16]             [32, 3]              51                   True\n",
              "========================================================================================================================\n",
              "Total params: 1,491\n",
              "Trainable params: 1,491\n",
              "Non-trainable params: 0\n",
              "Total mult-adds (M): 828.51\n",
              "========================================================================================================================\n",
              "Input size (MB): 19.27\n",
              "Forward/backward pass size (MB): 308.28\n",
              "Params size (MB): 0.01\n",
              "Estimated Total Size (MB): 327.56\n",
              "========================================================================================================================"
            ]
          },
          "execution_count": 79,
          "metadata": {},
          "output_type": "execute_result"
        }
      ],
      "source": [
        "from torchinfo import summary\n",
        "\n",
        "summary(model=model,\n",
        "        input_size=(32, 3, 224, 224), # (batch_size, color_channels, height, width)\n",
        "        # col_names=[\"input_size\"], # uncomment for smaller output\n",
        "        col_names=[\"input_size\", \"output_size\", \"num_params\", \"trainable\"],\n",
        "        col_width=20,\n",
        "        row_settings=[\"var_names\"]\n",
        ")"
      ]
    },
    {
      "cell_type": "code",
      "execution_count": 80,
      "metadata": {
        "id": "wLOVjxFfvNPs"
      },
      "outputs": [],
      "source": [
        "from tqdm.auto import tqdm\n",
        "from typing import Dict, List, Tuple\n",
        "\n",
        "def train_step(model: torch.nn.Module,\n",
        "               dataloader: torch.utils.data.DataLoader,\n",
        "               loss_fn: torch.nn.Module,\n",
        "               optimizer: torch.optim.Optimizer,\n",
        "               device: torch.device) -> Tuple[float, float]:\n",
        "\n",
        "    # Put model in train mode\n",
        "    model.train()\n",
        "\n",
        "    # Setup train loss and train accuracy values\n",
        "    train_loss, train_acc = 0, 0\n",
        "\n",
        "    # Loop through data loader data batches\n",
        "    for batch, (X, y) in enumerate(dataloader):\n",
        "        # Send data to target device\n",
        "        X, y = X.to(device), y.to(device)\n",
        "\n",
        "        # 1. Forward pass\n",
        "        y_pred = model(X)\n",
        "\n",
        "        # 2. Calculate  and accumulate loss\n",
        "        loss = loss_fn(y_pred, y)\n",
        "        train_loss += loss.item()\n",
        "\n",
        "        # 3. Optimizer zero grad\n",
        "        optimizer.zero_grad()\n",
        "\n",
        "        # 4. Loss backward\n",
        "        loss.backward()\n",
        "\n",
        "        # 5. Optimizer step\n",
        "        optimizer.step()\n",
        "\n",
        "        # Calculate and accumulate accuracy metric across all batches\n",
        "        y_pred_class = torch.argmax(torch.softmax(y_pred, dim=1), dim=1)\n",
        "        train_acc += (y_pred_class == y).sum().item()/len(y_pred)\n",
        "\n",
        "    # Adjust metrics to get average loss and accuracy per batch\n",
        "    train_loss = train_loss / len(dataloader)\n",
        "    train_acc = train_acc / len(dataloader)\n",
        "    return train_loss, train_acc\n",
        "\n",
        "def val_step(model: torch.nn.Module,\n",
        "              dataloader: torch.utils.data.DataLoader,\n",
        "              loss_fn: torch.nn.Module,\n",
        "              device: torch.device) -> Tuple[float, float]:\n",
        "\n",
        "    # Put model in eval mode\n",
        "    model.eval()\n",
        "\n",
        "    # Setup test loss and test accuracy values\n",
        "    val_loss, val_acc = 0, 0\n",
        "\n",
        "    # Turn on inference context manager\n",
        "    with torch.inference_mode():\n",
        "        # Loop through DataLoader batches\n",
        "        for batch, (X, y) in enumerate(dataloader):\n",
        "            # Send data to target device\n",
        "            X, y = X.to(device), y.to(device)\n",
        "\n",
        "            # 1. Forward pass\n",
        "            val_pred_logits = model(X)\n",
        "\n",
        "            # 2. Calculate and accumulate loss\n",
        "            loss = loss_fn(val_pred_logits, y)\n",
        "            val_loss += loss.item()\n",
        "\n",
        "            # Calculate and accumulate accuracy\n",
        "            val_pred_labels = val_pred_logits.argmax(dim=1)\n",
        "            val_acc += ((val_pred_labels == y).sum().item()/len(val_pred_labels))\n",
        "\n",
        "    # Adjust metrics to get average loss and accuracy per batch\n",
        "    val_loss = val_loss / len(dataloader)\n",
        "    val_acc = val_acc / len(dataloader)\n",
        "    return val_loss, val_acc\n",
        "\n",
        "def train(model: torch.nn.Module,\n",
        "          train_dataloader: torch.utils.data.DataLoader,\n",
        "          val_dataloader: torch.utils.data.DataLoader,\n",
        "          optimizer: torch.optim.Optimizer,\n",
        "          loss_fn: torch.nn.Module,\n",
        "          epochs: int,\n",
        "          device: torch.device) -> Dict[str, List]:\n",
        "\n",
        "    # Create empty results dictionary\n",
        "    results = {\"train_loss\": [],\n",
        "               \"train_acc\": [],\n",
        "               \"val_loss\": [],\n",
        "               \"val_acc\": []\n",
        "    }\n",
        "\n",
        "    # Make sure model on target device\n",
        "    model.to(device)\n",
        "\n",
        "    # Loop through training and testing steps for a number of epochs\n",
        "    for epoch in tqdm(range(epochs)):\n",
        "        train_loss, train_acc = train_step(model=model,\n",
        "                                          dataloader=train_dataloader,\n",
        "                                          loss_fn=loss_fn,\n",
        "                                          optimizer=optimizer,\n",
        "                                          device=device)\n",
        "        val_loss, val_acc = val_step(model=model,\n",
        "          dataloader=val_dataloader,\n",
        "          loss_fn=loss_fn,\n",
        "          device=device)\n",
        "\n",
        "        # Print out what's happening\n",
        "        print(\n",
        "          f\"Epoch: {epoch+1} | \"\n",
        "          f\"train_loss: {train_loss:.4f} | \"\n",
        "          f\"train_acc: {train_acc:.4f} | \"\n",
        "          f\"val_loss: {val_loss:.4f} | \"\n",
        "          f\"val_acc: {val_acc:.4f}\"\n",
        "        )\n",
        "\n",
        "        # Update results dictionary\n",
        "        results[\"train_loss\"].append(train_loss)\n",
        "        results[\"train_acc\"].append(train_acc)\n",
        "        results[\"val_loss\"].append(val_loss)\n",
        "        results[\"val_acc\"].append(val_acc)\n",
        "\n",
        "    # Return the filled results at the end of the epochs\n",
        "    return results\n",
        "\n",
        "def predict(model: torch.nn.Module,\n",
        "            dataloader: torch.utils.data.DataLoader,\n",
        "            device: torch.device) -> Tuple[torch.Tensor, torch.Tensor]:\n",
        "\n",
        "    # Put model in eval\n",
        "    model.eval()\n",
        "\n",
        "    # Create empty lists to store predictions and targets\n",
        "    all_preds = []\n",
        "    all_targets = []\n",
        "\n",
        "    # Turn on inference context manager\n",
        "    with torch.inference_mode():\n",
        "        # Loop through DataLoader batches\n",
        "        for batch, (X, y) in enumerate(dataloader):\n",
        "            # Send data to target device\n",
        "            X, y = X.to(device), y.to(device)\n",
        "\n",
        "            val_pred_logits = model(X)\n",
        "            \n",
        "            all_preds.append(val_pred_logits)\n",
        "            all_targets.append(y)\n",
        "\n",
        "    # Concatenate all predictions and targets\n",
        "    all_preds = torch.cat(all_preds)\n",
        "    all_targets = torch.cat(all_targets)\n",
        "    return all_preds, all_targets\n"
      ]
    },
    {
      "cell_type": "code",
      "execution_count": 81,
      "metadata": {
        "colab": {
          "base_uri": "https://localhost:8080/",
          "height": 223,
          "referenced_widgets": [
            "0860120ba8d7431e947a8265075cafb3",
            "d3ef38a27565482da418dcc319b9415e",
            "88c1a0de920a401eb92e39384ca2650c",
            "80ef073eae0b475f8b3b937d96ed49f7",
            "23b5805b6b1c4c21a56654744168395a",
            "8fd73ad650214c30baa888b66a6032c9",
            "66f3b57dd73749de8004b760386a5b5d",
            "9efe2da9658f4c2fa3d4434019708ebc",
            "a01936afda724d3ca79860e61d7617af",
            "ea09a50b93484e45bd1c20cef567c1e4",
            "65f20e77aa1b4877a957f450358f3528"
          ]
        },
        "id": "-TR_RKrkwHuR",
        "outputId": "ced29177-1990-40df-b238-df135cf6031a"
      },
      "outputs": [
        {
          "name": "stderr",
          "output_type": "stream",
          "text": [
            "  3%|▎         | 1/30 [00:13<06:23, 13.24s/it]"
          ]
        },
        {
          "name": "stdout",
          "output_type": "stream",
          "text": [
            "Epoch: 1 | train_loss: 1.1197 | train_acc: 0.4922 | val_loss: 0.9012 | val_acc: 0.6024\n"
          ]
        },
        {
          "name": "stderr",
          "output_type": "stream",
          "text": [
            "  7%|▋         | 2/30 [00:26<06:03, 12.98s/it]"
          ]
        },
        {
          "name": "stdout",
          "output_type": "stream",
          "text": [
            "Epoch: 2 | train_loss: 0.7334 | train_acc: 0.6903 | val_loss: 0.6637 | val_acc: 0.7865\n"
          ]
        },
        {
          "name": "stderr",
          "output_type": "stream",
          "text": [
            " 10%|█         | 3/30 [00:38<05:47, 12.88s/it]"
          ]
        },
        {
          "name": "stdout",
          "output_type": "stream",
          "text": [
            "Epoch: 3 | train_loss: 0.6019 | train_acc: 0.7722 | val_loss: 0.5824 | val_acc: 0.7995\n"
          ]
        },
        {
          "name": "stderr",
          "output_type": "stream",
          "text": [
            " 13%|█▎        | 4/30 [00:51<05:30, 12.72s/it]"
          ]
        },
        {
          "name": "stdout",
          "output_type": "stream",
          "text": [
            "Epoch: 4 | train_loss: 0.5352 | train_acc: 0.7969 | val_loss: 0.5343 | val_acc: 0.7917\n"
          ]
        },
        {
          "name": "stderr",
          "output_type": "stream",
          "text": [
            " 17%|█▋        | 5/30 [01:04<05:20, 12.81s/it]"
          ]
        },
        {
          "name": "stdout",
          "output_type": "stream",
          "text": [
            "Epoch: 5 | train_loss: 0.4735 | train_acc: 0.8218 | val_loss: 0.4569 | val_acc: 0.8307\n"
          ]
        },
        {
          "name": "stderr",
          "output_type": "stream",
          "text": [
            " 20%|██        | 6/30 [01:17<05:12, 13.01s/it]"
          ]
        },
        {
          "name": "stdout",
          "output_type": "stream",
          "text": [
            "Epoch: 6 | train_loss: 0.4252 | train_acc: 0.8525 | val_loss: 0.4330 | val_acc: 0.8359\n"
          ]
        },
        {
          "name": "stderr",
          "output_type": "stream",
          "text": [
            " 23%|██▎       | 7/30 [01:31<05:02, 13.16s/it]"
          ]
        },
        {
          "name": "stdout",
          "output_type": "stream",
          "text": [
            "Epoch: 7 | train_loss: 0.3854 | train_acc: 0.8673 | val_loss: 0.3758 | val_acc: 0.8802\n"
          ]
        },
        {
          "name": "stderr",
          "output_type": "stream",
          "text": [
            " 27%|██▋       | 8/30 [01:44<04:48, 13.12s/it]"
          ]
        },
        {
          "name": "stdout",
          "output_type": "stream",
          "text": [
            "Epoch: 8 | train_loss: 0.3832 | train_acc: 0.8646 | val_loss: 0.3847 | val_acc: 0.8594\n"
          ]
        },
        {
          "name": "stderr",
          "output_type": "stream",
          "text": [
            " 30%|███       | 9/30 [01:57<04:35, 13.12s/it]"
          ]
        },
        {
          "name": "stdout",
          "output_type": "stream",
          "text": [
            "Epoch: 9 | train_loss: 0.3454 | train_acc: 0.8844 | val_loss: 0.3699 | val_acc: 0.8646\n"
          ]
        },
        {
          "name": "stderr",
          "output_type": "stream",
          "text": [
            " 33%|███▎      | 10/30 [02:10<04:21, 13.09s/it]"
          ]
        },
        {
          "name": "stdout",
          "output_type": "stream",
          "text": [
            "Epoch: 10 | train_loss: 0.3270 | train_acc: 0.8914 | val_loss: 0.3420 | val_acc: 0.8854\n"
          ]
        },
        {
          "name": "stderr",
          "output_type": "stream",
          "text": [
            " 37%|███▋      | 11/30 [02:23<04:08, 13.07s/it]"
          ]
        },
        {
          "name": "stdout",
          "output_type": "stream",
          "text": [
            "Epoch: 11 | train_loss: 0.3150 | train_acc: 0.8861 | val_loss: 0.3484 | val_acc: 0.8620\n"
          ]
        },
        {
          "name": "stderr",
          "output_type": "stream",
          "text": [
            " 40%|████      | 12/30 [02:36<03:54, 13.03s/it]"
          ]
        },
        {
          "name": "stdout",
          "output_type": "stream",
          "text": [
            "Epoch: 12 | train_loss: 0.2937 | train_acc: 0.9020 | val_loss: 0.3120 | val_acc: 0.8854\n"
          ]
        },
        {
          "name": "stderr",
          "output_type": "stream",
          "text": [
            " 43%|████▎     | 13/30 [02:49<03:43, 13.12s/it]"
          ]
        },
        {
          "name": "stdout",
          "output_type": "stream",
          "text": [
            "Epoch: 13 | train_loss: 0.3002 | train_acc: 0.9047 | val_loss: 0.3070 | val_acc: 0.8880\n"
          ]
        },
        {
          "name": "stderr",
          "output_type": "stream",
          "text": [
            " 47%|████▋     | 14/30 [03:02<03:28, 13.04s/it]"
          ]
        },
        {
          "name": "stdout",
          "output_type": "stream",
          "text": [
            "Epoch: 14 | train_loss: 0.2754 | train_acc: 0.9131 | val_loss: 0.2936 | val_acc: 0.8932\n"
          ]
        },
        {
          "name": "stderr",
          "output_type": "stream",
          "text": [
            " 50%|█████     | 15/30 [03:14<03:13, 12.90s/it]"
          ]
        },
        {
          "name": "stdout",
          "output_type": "stream",
          "text": [
            "Epoch: 15 | train_loss: 0.2569 | train_acc: 0.9209 | val_loss: 0.2866 | val_acc: 0.9036\n"
          ]
        },
        {
          "name": "stderr",
          "output_type": "stream",
          "text": [
            " 53%|█████▎    | 16/30 [03:27<02:58, 12.77s/it]"
          ]
        },
        {
          "name": "stdout",
          "output_type": "stream",
          "text": [
            "Epoch: 16 | train_loss: 0.2543 | train_acc: 0.9138 | val_loss: 0.3003 | val_acc: 0.9036\n"
          ]
        },
        {
          "name": "stderr",
          "output_type": "stream",
          "text": [
            " 57%|█████▋    | 17/30 [03:39<02:44, 12.66s/it]"
          ]
        },
        {
          "name": "stdout",
          "output_type": "stream",
          "text": [
            "Epoch: 17 | train_loss: 0.2512 | train_acc: 0.9163 | val_loss: 0.2935 | val_acc: 0.9036\n"
          ]
        },
        {
          "name": "stderr",
          "output_type": "stream",
          "text": [
            " 60%|██████    | 18/30 [03:52<02:32, 12.74s/it]"
          ]
        },
        {
          "name": "stdout",
          "output_type": "stream",
          "text": [
            "Epoch: 18 | train_loss: 0.2579 | train_acc: 0.9116 | val_loss: 0.3131 | val_acc: 0.8854\n"
          ]
        },
        {
          "name": "stderr",
          "output_type": "stream",
          "text": [
            " 63%|██████▎   | 19/30 [04:05<02:20, 12.76s/it]"
          ]
        },
        {
          "name": "stdout",
          "output_type": "stream",
          "text": [
            "Epoch: 19 | train_loss: 0.2391 | train_acc: 0.9191 | val_loss: 0.2655 | val_acc: 0.8958\n"
          ]
        },
        {
          "name": "stderr",
          "output_type": "stream",
          "text": [
            " 67%|██████▋   | 20/30 [04:18<02:06, 12.66s/it]"
          ]
        },
        {
          "name": "stdout",
          "output_type": "stream",
          "text": [
            "Epoch: 20 | train_loss: 0.2264 | train_acc: 0.9333 | val_loss: 0.2602 | val_acc: 0.9141\n"
          ]
        },
        {
          "name": "stderr",
          "output_type": "stream",
          "text": [
            " 70%|███████   | 21/30 [04:30<01:53, 12.64s/it]"
          ]
        },
        {
          "name": "stdout",
          "output_type": "stream",
          "text": [
            "Epoch: 21 | train_loss: 0.2166 | train_acc: 0.9287 | val_loss: 0.2877 | val_acc: 0.8854\n"
          ]
        },
        {
          "name": "stderr",
          "output_type": "stream",
          "text": [
            " 73%|███████▎  | 22/30 [04:43<01:41, 12.64s/it]"
          ]
        },
        {
          "name": "stdout",
          "output_type": "stream",
          "text": [
            "Epoch: 22 | train_loss: 0.2140 | train_acc: 0.9278 | val_loss: 0.2920 | val_acc: 0.8958\n"
          ]
        },
        {
          "name": "stderr",
          "output_type": "stream",
          "text": [
            " 77%|███████▋  | 23/30 [04:55<01:28, 12.61s/it]"
          ]
        },
        {
          "name": "stdout",
          "output_type": "stream",
          "text": [
            "Epoch: 23 | train_loss: 0.2079 | train_acc: 0.9381 | val_loss: 0.2671 | val_acc: 0.9036\n"
          ]
        },
        {
          "name": "stderr",
          "output_type": "stream",
          "text": [
            " 80%|████████  | 24/30 [05:08<01:15, 12.56s/it]"
          ]
        },
        {
          "name": "stdout",
          "output_type": "stream",
          "text": [
            "Epoch: 24 | train_loss: 0.2077 | train_acc: 0.9298 | val_loss: 0.2625 | val_acc: 0.9089\n"
          ]
        },
        {
          "name": "stderr",
          "output_type": "stream",
          "text": [
            " 83%|████████▎ | 25/30 [05:20<01:02, 12.54s/it]"
          ]
        },
        {
          "name": "stdout",
          "output_type": "stream",
          "text": [
            "Epoch: 25 | train_loss: 0.2000 | train_acc: 0.9350 | val_loss: 0.2497 | val_acc: 0.8958\n"
          ]
        },
        {
          "name": "stderr",
          "output_type": "stream",
          "text": [
            " 87%|████████▋ | 26/30 [05:33<00:50, 12.60s/it]"
          ]
        },
        {
          "name": "stdout",
          "output_type": "stream",
          "text": [
            "Epoch: 26 | train_loss: 0.1967 | train_acc: 0.9349 | val_loss: 0.2776 | val_acc: 0.8932\n"
          ]
        },
        {
          "name": "stderr",
          "output_type": "stream",
          "text": [
            " 90%|█████████ | 27/30 [05:45<00:37, 12.55s/it]"
          ]
        },
        {
          "name": "stdout",
          "output_type": "stream",
          "text": [
            "Epoch: 27 | train_loss: 0.2084 | train_acc: 0.9298 | val_loss: 0.3173 | val_acc: 0.8672\n"
          ]
        },
        {
          "name": "stderr",
          "output_type": "stream",
          "text": [
            " 93%|█████████▎| 28/30 [05:58<00:25, 12.63s/it]"
          ]
        },
        {
          "name": "stdout",
          "output_type": "stream",
          "text": [
            "Epoch: 28 | train_loss: 0.1847 | train_acc: 0.9439 | val_loss: 0.2491 | val_acc: 0.9089\n"
          ]
        },
        {
          "name": "stderr",
          "output_type": "stream",
          "text": [
            " 97%|█████████▋| 29/30 [06:11<00:12, 12.64s/it]"
          ]
        },
        {
          "name": "stdout",
          "output_type": "stream",
          "text": [
            "Epoch: 29 | train_loss: 0.1935 | train_acc: 0.9409 | val_loss: 0.2594 | val_acc: 0.8984\n"
          ]
        },
        {
          "name": "stderr",
          "output_type": "stream",
          "text": [
            "100%|██████████| 30/30 [06:23<00:00, 12.80s/it]"
          ]
        },
        {
          "name": "stdout",
          "output_type": "stream",
          "text": [
            "Epoch: 30 | train_loss: 0.1813 | train_acc: 0.9427 | val_loss: 0.2565 | val_acc: 0.9036\n"
          ]
        },
        {
          "name": "stderr",
          "output_type": "stream",
          "text": [
            "\n"
          ]
        }
      ],
      "source": [
        "optimizer = torch.optim.Adam(params=model.parameters(), lr=1e-3)\n",
        "\n",
        "loss_fn = torch.nn.CrossEntropyLoss()\n",
        "\n",
        "# Train the classifier head of the pretrained ViT feature extractor model\n",
        "torch.manual_seed(42)\n",
        "    # Set the seed for CUDA torch operations (ones that happen on the GPU)\n",
        "torch.cuda.manual_seed(42)\n",
        "cnn_results = train(model=model,\n",
        "                    train_dataloader=train_loader,\n",
        "                    val_dataloader=validation_loader,\n",
        "                    optimizer=optimizer,\n",
        "                    loss_fn=loss_fn,\n",
        "                    epochs=30,\n",
        "                    device=device)"
      ]
    },
    {
      "cell_type": "code",
      "execution_count": 82,
      "metadata": {},
      "outputs": [
        {
          "data": {
            "image/png": "[encoded data removed]",
            "text/plain": [
              "<Figure size 1000x700 with 1 Axes>"
            ]
          },
          "metadata": {},
          "output_type": "display_data"
        },
        {
          "data": {
            "image/png": "[encoded data removed]",
            "text/plain": [
              "<Figure size 1000x700 with 1 Axes>"
            ]
          },
          "metadata": {},
          "output_type": "display_data"
        },
        {
          "data": {
            "image/png": "[encoded data removed]",
            "text/plain": [
              "<Figure size 1000x1000 with 2 Axes>"
            ]
          },
          "metadata": {},
          "output_type": "display_data"
        },
        {
          "name": "stdout",
          "output_type": "stream",
          "text": [
            "              precision    recall  f1-score   support\n",
            "\n",
            "       covid       0.83      0.91      0.87        82\n",
            "      normal       0.97      0.91      0.94       158\n",
            "       virus       0.90      0.91      0.90       120\n",
            "\n",
            "    accuracy                           0.91       360\n",
            "   macro avg       0.90      0.91      0.90       360\n",
            "weighted avg       0.91      0.91      0.91       360\n",
            "\n"
          ]
        }
      ],
      "source": [
        "## Avaliação do modelo\n",
        "\n",
        "# Plot the training results\n",
        "plt.figure(figsize=(10, 7))\n",
        "plt.plot(cnn_results[\"train_loss\"], label=\"train_loss\")\n",
        "plt.plot(cnn_results[\"val_loss\"], label=\"val_loss\")\n",
        "plt.title(\"Training Loss\")\n",
        "plt.xlabel(\"Epochs\")\n",
        "plt.ylabel(\"Loss\")\n",
        "plt.legend()\n",
        "plt.show()\n",
        "\n",
        "plt.figure(figsize=(10, 7))\n",
        "plt.plot(cnn_results[\"train_acc\"], label=\"train_acc\")\n",
        "plt.plot(cnn_results[\"val_acc\"], label=\"val_acc\")\n",
        "plt.title(\"Training Accuracy\")\n",
        "plt.xlabel(\"Epochs\")\n",
        "plt.ylabel(\"Accuracy\")\n",
        "plt.legend()\n",
        "plt.show()\n",
        "\n",
        "# Get predictions and targets\n",
        "all_preds, all_targets = predict(model=model,\n",
        "                                 dataloader=test_loader,\n",
        "                                 device=device)\n",
        "\n",
        "# Calculate the confusion matrix\n",
        "conf_matrix = confusion_matrix(all_targets.cpu(), all_preds.argmax(dim=1).cpu())\n",
        "\n",
        "# Plot the confusion matrix\n",
        "plt.figure(figsize=(10, 10))\n",
        "plt.imshow(conf_matrix, cmap=\"Blues\")\n",
        "plt.colorbar()\n",
        "plt.title(\"Confusion Matrix\")\n",
        "plt.xticks(np.arange(3), class_names, rotation=45)\n",
        "plt.yticks(np.arange(3), class_names)\n",
        "plt.xlabel(\"Predicted\")\n",
        "plt.ylabel(\"Actual\")\n",
        "plt.show()\n",
        "\n",
        "# Print the classification report\n",
        "print(classification_report(all_targets.cpu(), all_preds.argmax(dim=1).cpu(), target_names=class_names))\n"
      ]
    }
  ],
  "metadata": {
    "accelerator": "GPU",
    "colab": {
      "gpuType": "T4",
      "provenance": []
    },
    "kernelspec": {
      "display_name": "Python 3",
      "name": "python3"
    },
    "language_info": {
      "codemirror_mode": {
        "name": "ipython",
        "version": 3
      },
      "file_extension": ".py",
      "mimetype": "text/x-python",
      "name": "python",
      "nbconvert_exporter": "python",
      "pygments_lexer": "ipython3",
      "version": "3.10.12"
    },
    "widgets": {
      "application/vnd.jupyter.widget-state+json": {
        "0860120ba8d7431e947a8265075cafb3": {
          "model_module": "@jupyter-widgets/controls",
          "model_module_version": "1.5.0",
          "model_name": "HBoxModel",
          "state": {
            "_dom_classes": [],
            "_model_module": "@jupyter-widgets/controls",
            "_model_module_version": "1.5.0",
            "_model_name": "HBoxModel",
            "_view_count": null,
            "_view_module": "@jupyter-widgets/controls",
            "_view_module_version": "1.5.0",
            "_view_name": "HBoxView",
            "box_style": "",
            "children": [
              "IPY_MODEL_d3ef38a27565482da418dcc319b9415e",
              "IPY_MODEL_88c1a0de920a401eb92e39384ca2650c",
              "IPY_MODEL_80ef073eae0b475f8b3b937d96ed49f7"
            ],
            "layout": "IPY_MODEL_23b5805b6b1c4c21a56654744168395a"
          }
        },
        "23b5805b6b1c4c21a56654744168395a": {
          "model_module": "@jupyter-widgets/base",
          "model_module_version": "1.2.0",
          "model_name": "LayoutModel",
          "state": {
            "_model_module": "@jupyter-widgets/base",
            "_model_module_version": "1.2.0",
            "_model_name": "LayoutModel",
            "_view_count": null,
            "_view_module": "@jupyter-widgets/base",
            "_view_module_version": "1.2.0",
            "_view_name": "LayoutView",
            "align_content": null,
            "align_items": null,
            "align_self": null,
            "border": null,
            "bottom": null,
            "display": null,
            "flex": null,
            "flex_flow": null,
            "grid_area": null,
            "grid_auto_columns": null,
            "grid_auto_flow": null,
            "grid_auto_rows": null,
            "grid_column": null,
            "grid_gap": null,
            "grid_row": null,
            "grid_template_areas": null,
            "grid_template_columns": null,
            "grid_template_rows": null,
            "height": null,
            "justify_content": null,
            "justify_items": null,
            "left": null,
            "margin": null,
            "max_height": null,
            "max_width": null,
            "min_height": null,
            "min_width": null,
            "object_fit": null,
            "object_position": null,
            "order": null,
            "overflow": null,
            "overflow_x": null,
            "overflow_y": null,
            "padding": null,
            "right": null,
            "top": null,
            "visibility": null,
            "width": null
          }
        },
        "65f20e77aa1b4877a957f450358f3528": {
          "model_module": "@jupyter-widgets/controls",
          "model_module_version": "1.5.0",
          "model_name": "DescriptionStyleModel",
          "state": {
            "_model_module": "@jupyter-widgets/controls",
            "_model_module_version": "1.5.0",
            "_model_name": "DescriptionStyleModel",
            "_view_count": null,
            "_view_module": "@jupyter-widgets/base",
            "_view_module_version": "1.2.0",
            "_view_name": "StyleView",
            "description_width": ""
          }
        },
        "66f3b57dd73749de8004b760386a5b5d": {
          "model_module": "@jupyter-widgets/controls",
          "model_module_version": "1.5.0",
          "model_name": "DescriptionStyleModel",
          "state": {
            "_model_module": "@jupyter-widgets/controls",
            "_model_module_version": "1.5.0",
            "_model_name": "DescriptionStyleModel",
            "_view_count": null,
            "_view_module": "@jupyter-widgets/base",
            "_view_module_version": "1.2.0",
            "_view_name": "StyleView",
            "description_width": ""
          }
        },
        "80ef073eae0b475f8b3b937d96ed49f7": {
          "model_module": "@jupyter-widgets/controls",
          "model_module_version": "1.5.0",
          "model_name": "HTMLModel",
          "state": {
            "_dom_classes": [],
            "_model_module": "@jupyter-widgets/controls",
            "_model_module_version": "1.5.0",
            "_model_name": "HTMLModel",
            "_view_count": null,
            "_view_module": "@jupyter-widgets/controls",
            "_view_module_version": "1.5.0",
            "_view_name": "HTMLView",
            "description": "",
            "description_tooltip": null,
            "layout": "IPY_MODEL_ea09a50b93484e45bd1c20cef567c1e4",
            "placeholder": "​",
            "style": "IPY_MODEL_65f20e77aa1b4877a957f450358f3528",
            "value": " 10/10 [04:55&lt;00:00, 29.46s/it]"
          }
        },
        "88c1a0de920a401eb92e39384ca2650c": {
          "model_module": "@jupyter-widgets/controls",
          "model_module_version": "1.5.0",
          "model_name": "FloatProgressModel",
          "state": {
            "_dom_classes": [],
            "_model_module": "@jupyter-widgets/controls",
            "_model_module_version": "1.5.0",
            "_model_name": "FloatProgressModel",
            "_view_count": null,
            "_view_module": "@jupyter-widgets/controls",
            "_view_module_version": "1.5.0",
            "_view_name": "ProgressView",
            "bar_style": "success",
            "description": "",
            "description_tooltip": null,
            "layout": "IPY_MODEL_9efe2da9658f4c2fa3d4434019708ebc",
            "max": 10,
            "min": 0,
            "orientation": "horizontal",
            "style": "IPY_MODEL_a01936afda724d3ca79860e61d7617af",
            "value": 10
          }
        },
        "8fd73ad650214c30baa888b66a6032c9": {
          "model_module": "@jupyter-widgets/base",
          "model_module_version": "1.2.0",
          "model_name": "LayoutModel",
          "state": {
            "_model_module": "@jupyter-widgets/base",
            "_model_module_version": "1.2.0",
            "_model_name": "LayoutModel",
            "_view_count": null,
            "_view_module": "@jupyter-widgets/base",
            "_view_module_version": "1.2.0",
            "_view_name": "LayoutView",
            "align_content": null,
            "align_items": null,
            "align_self": null,
            "border": null,
            "bottom": null,
            "display": null,
            "flex": null,
            "flex_flow": null,
            "grid_area": null,
            "grid_auto_columns": null,
            "grid_auto_flow": null,
            "grid_auto_rows": null,
            "grid_column": null,
            "grid_gap": null,
            "grid_row": null,
            "grid_template_areas": null,
            "grid_template_columns": null,
            "grid_template_rows": null,
            "height": null,
            "justify_content": null,
            "justify_items": null,
            "left": null,
            "margin": null,
            "max_height": null,
            "max_width": null,
            "min_height": null,
            "min_width": null,
            "object_fit": null,
            "object_position": null,
            "order": null,
            "overflow": null,
            "overflow_x": null,
            "overflow_y": null,
            "padding": null,
            "right": null,
            "top": null,
            "visibility": null,
            "width": null
          }
        },
        "9efe2da9658f4c2fa3d4434019708ebc": {
          "model_module": "@jupyter-widgets/base",
          "model_module_version": "1.2.0",
          "model_name": "LayoutModel",
          "state": {
            "_model_module": "@jupyter-widgets/base",
            "_model_module_version": "1.2.0",
            "_model_name": "LayoutModel",
            "_view_count": null,
            "_view_module": "@jupyter-widgets/base",
            "_view_module_version": "1.2.0",
            "_view_name": "LayoutView",
            "align_content": null,
            "align_items": null,
            "align_self": null,
            "border": null,
            "bottom": null,
            "display": null,
            "flex": null,
            "flex_flow": null,
            "grid_area": null,
            "grid_auto_columns": null,
            "grid_auto_flow": null,
            "grid_auto_rows": null,
            "grid_column": null,
            "grid_gap": null,
            "grid_row": null,
            "grid_template_areas": null,
            "grid_template_columns": null,
            "grid_template_rows": null,
            "height": null,
            "justify_content": null,
            "justify_items": null,
            "left": null,
            "margin": null,
            "max_height": null,
            "max_width": null,
            "min_height": null,
            "min_width": null,
            "object_fit": null,
            "object_position": null,
            "order": null,
            "overflow": null,
            "overflow_x": null,
            "overflow_y": null,
            "padding": null,
            "right": null,
            "top": null,
            "visibility": null,
            "width": null
          }
        },
        "a01936afda724d3ca79860e61d7617af": {
          "model_module": "@jupyter-widgets/controls",
          "model_module_version": "1.5.0",
          "model_name": "ProgressStyleModel",
          "state": {
            "_model_module": "@jupyter-widgets/controls",
            "_model_module_version": "1.5.0",
            "_model_name": "ProgressStyleModel",
            "_view_count": null,
            "_view_module": "@jupyter-widgets/base",
            "_view_module_version": "1.2.0",
            "_view_name": "StyleView",
            "bar_color": null,
            "description_width": ""
          }
        },
        "d3ef38a27565482da418dcc319b9415e": {
          "model_module": "@jupyter-widgets/controls",
          "model_module_version": "1.5.0",
          "model_name": "HTMLModel",
          "state": {
            "_dom_classes": [],
            "_model_module": "@jupyter-widgets/controls",
            "_model_module_version": "1.5.0",
            "_model_name": "HTMLModel",
            "_view_count": null,
            "_view_module": "@jupyter-widgets/controls",
            "_view_module_version": "1.5.0",
            "_view_name": "HTMLView",
            "description": "",
            "description_tooltip": null,
            "layout": "IPY_MODEL_8fd73ad650214c30baa888b66a6032c9",
            "placeholder": "​",
            "style": "IPY_MODEL_66f3b57dd73749de8004b760386a5b5d",
            "value": "100%"
          }
        },
        "ea09a50b93484e45bd1c20cef567c1e4": {
          "model_module": "@jupyter-widgets/base",
          "model_module_version": "1.2.0",
          "model_name": "LayoutModel",
          "state": {
            "_model_module": "@jupyter-widgets/base",
            "_model_module_version": "1.2.0",
            "_model_name": "LayoutModel",
            "_view_count": null,
            "_view_module": "@jupyter-widgets/base",
            "_view_module_version": "1.2.0",
            "_view_name": "LayoutView",
            "align_content": null,
            "align_items": null,
            "align_self": null,
            "border": null,
            "bottom": null,
            "display": null,
            "flex": null,
            "flex_flow": null,
            "grid_area": null,
            "grid_auto_columns": null,
            "grid_auto_flow": null,
            "grid_auto_rows": null,
            "grid_column": null,
            "grid_gap": null,
            "grid_row": null,
            "grid_template_areas": null,
            "grid_template_columns": null,
            "grid_template_rows": null,
            "height": null,
            "justify_content": null,
            "justify_items": null,
            "left": null,
            "margin": null,
            "max_height": null,
            "max_width": null,
            "min_height": null,
            "min_width": null,
            "object_fit": null,
            "object_position": null,
            "order": null,
            "overflow": null,
            "overflow_x": null,
            "overflow_y": null,
            "padding": null,
            "right": null,
            "top": null,
            "visibility": null,
            "width": null
          }
        }
      }
    }
  },
  "nbformat": 4,
  "nbformat_minor": 0
}
