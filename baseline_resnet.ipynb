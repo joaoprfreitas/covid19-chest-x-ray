{
  "nbformat": 4,
  "nbformat_minor": 0,
  "metadata": {
    "colab": {
      "provenance": [],
      "gpuType": "T4"
    },
    "kernelspec": {
      "name": "python3",
      "display_name": "Python 3"
    },
    "language_info": {
      "name": "python"
    },
    "accelerator": "GPU",
    "widgets": {
      "application/vnd.jupyter.widget-state+json": {
        "a48cddd7bc6143c2a9e0bd8b47b7219a": {
          "model_module": "@jupyter-widgets/controls",
          "model_name": "HBoxModel",
          "model_module_version": "1.5.0",
          "state": {
            "_dom_classes": [],
            "_model_module": "@jupyter-widgets/controls",
            "_model_module_version": "1.5.0",
            "_model_name": "HBoxModel",
            "_view_count": null,
            "_view_module": "@jupyter-widgets/controls",
            "_view_module_version": "1.5.0",
            "_view_name": "HBoxView",
            "box_style": "",
            "children": [
              "IPY_MODEL_78fb33661bfc47b1a7d3a0517c5050f1",
              "IPY_MODEL_6ca51add4f134d79becffa000ba4475a",
              "IPY_MODEL_34de303451554b05af0e510ff01f4fe2"
            ],
            "layout": "IPY_MODEL_7d90d03c448c409a8339abc28cde214a"
          }
        },
        "78fb33661bfc47b1a7d3a0517c5050f1": {
          "model_module": "@jupyter-widgets/controls",
          "model_name": "HTMLModel",
          "model_module_version": "1.5.0",
          "state": {
            "_dom_classes": [],
            "_model_module": "@jupyter-widgets/controls",
            "_model_module_version": "1.5.0",
            "_model_name": "HTMLModel",
            "_view_count": null,
            "_view_module": "@jupyter-widgets/controls",
            "_view_module_version": "1.5.0",
            "_view_name": "HTMLView",
            "description": "",
            "description_tooltip": null,
            "layout": "IPY_MODEL_48cb41a4c8bf447abb3373826f69c0be",
            "placeholder": "​",
            "style": "IPY_MODEL_bd8a923ca9af4bdeb647ea1114016a05",
            "value": "100%"
          }
        },
        "6ca51add4f134d79becffa000ba4475a": {
          "model_module": "@jupyter-widgets/controls",
          "model_name": "FloatProgressModel",
          "model_module_version": "1.5.0",
          "state": {
            "_dom_classes": [],
            "_model_module": "@jupyter-widgets/controls",
            "_model_module_version": "1.5.0",
            "_model_name": "FloatProgressModel",
            "_view_count": null,
            "_view_module": "@jupyter-widgets/controls",
            "_view_module_version": "1.5.0",
            "_view_name": "ProgressView",
            "bar_style": "success",
            "description": "",
            "description_tooltip": null,
            "layout": "IPY_MODEL_00e3157eb9734a698d98b6484e5aeb7b",
            "max": 30,
            "min": 0,
            "orientation": "horizontal",
            "style": "IPY_MODEL_b5fe40a4762848808a1c97822b04c286",
            "value": 30
          }
        },
        "34de303451554b05af0e510ff01f4fe2": {
          "model_module": "@jupyter-widgets/controls",
          "model_name": "HTMLModel",
          "model_module_version": "1.5.0",
          "state": {
            "_dom_classes": [],
            "_model_module": "@jupyter-widgets/controls",
            "_model_module_version": "1.5.0",
            "_model_name": "HTMLModel",
            "_view_count": null,
            "_view_module": "@jupyter-widgets/controls",
            "_view_module_version": "1.5.0",
            "_view_name": "HTMLView",
            "description": "",
            "description_tooltip": null,
            "layout": "IPY_MODEL_017916e126a045c6b488924ce094fa66",
            "placeholder": "​",
            "style": "IPY_MODEL_4be52ea1b0e24d5bbe810f3ef2efc9b7",
            "value": " 30/30 [20:11&lt;00:00, 40.00s/it]"
          }
        },
        "7d90d03c448c409a8339abc28cde214a": {
          "model_module": "@jupyter-widgets/base",
          "model_name": "LayoutModel",
          "model_module_version": "1.2.0",
          "state": {
            "_model_module": "@jupyter-widgets/base",
            "_model_module_version": "1.2.0",
            "_model_name": "LayoutModel",
            "_view_count": null,
            "_view_module": "@jupyter-widgets/base",
            "_view_module_version": "1.2.0",
            "_view_name": "LayoutView",
            "align_content": null,
            "align_items": null,
            "align_self": null,
            "border": null,
            "bottom": null,
            "display": null,
            "flex": null,
            "flex_flow": null,
            "grid_area": null,
            "grid_auto_columns": null,
            "grid_auto_flow": null,
            "grid_auto_rows": null,
            "grid_column": null,
            "grid_gap": null,
            "grid_row": null,
            "grid_template_areas": null,
            "grid_template_columns": null,
            "grid_template_rows": null,
            "height": null,
            "justify_content": null,
            "justify_items": null,
            "left": null,
            "margin": null,
            "max_height": null,
            "max_width": null,
            "min_height": null,
            "min_width": null,
            "object_fit": null,
            "object_position": null,
            "order": null,
            "overflow": null,
            "overflow_x": null,
            "overflow_y": null,
            "padding": null,
            "right": null,
            "top": null,
            "visibility": null,
            "width": null
          }
        },
        "48cb41a4c8bf447abb3373826f69c0be": {
          "model_module": "@jupyter-widgets/base",
          "model_name": "LayoutModel",
          "model_module_version": "1.2.0",
          "state": {
            "_model_module": "@jupyter-widgets/base",
            "_model_module_version": "1.2.0",
            "_model_name": "LayoutModel",
            "_view_count": null,
            "_view_module": "@jupyter-widgets/base",
            "_view_module_version": "1.2.0",
            "_view_name": "LayoutView",
            "align_content": null,
            "align_items": null,
            "align_self": null,
            "border": null,
            "bottom": null,
            "display": null,
            "flex": null,
            "flex_flow": null,
            "grid_area": null,
            "grid_auto_columns": null,
            "grid_auto_flow": null,
            "grid_auto_rows": null,
            "grid_column": null,
            "grid_gap": null,
            "grid_row": null,
            "grid_template_areas": null,
            "grid_template_columns": null,
            "grid_template_rows": null,
            "height": null,
            "justify_content": null,
            "justify_items": null,
            "left": null,
            "margin": null,
            "max_height": null,
            "max_width": null,
            "min_height": null,
            "min_width": null,
            "object_fit": null,
            "object_position": null,
            "order": null,
            "overflow": null,
            "overflow_x": null,
            "overflow_y": null,
            "padding": null,
            "right": null,
            "top": null,
            "visibility": null,
            "width": null
          }
        },
        "bd8a923ca9af4bdeb647ea1114016a05": {
          "model_module": "@jupyter-widgets/controls",
          "model_name": "DescriptionStyleModel",
          "model_module_version": "1.5.0",
          "state": {
            "_model_module": "@jupyter-widgets/controls",
            "_model_module_version": "1.5.0",
            "_model_name": "DescriptionStyleModel",
            "_view_count": null,
            "_view_module": "@jupyter-widgets/base",
            "_view_module_version": "1.2.0",
            "_view_name": "StyleView",
            "description_width": ""
          }
        },
        "00e3157eb9734a698d98b6484e5aeb7b": {
          "model_module": "@jupyter-widgets/base",
          "model_name": "LayoutModel",
          "model_module_version": "1.2.0",
          "state": {
            "_model_module": "@jupyter-widgets/base",
            "_model_module_version": "1.2.0",
            "_model_name": "LayoutModel",
            "_view_count": null,
            "_view_module": "@jupyter-widgets/base",
            "_view_module_version": "1.2.0",
            "_view_name": "LayoutView",
            "align_content": null,
            "align_items": null,
            "align_self": null,
            "border": null,
            "bottom": null,
            "display": null,
            "flex": null,
            "flex_flow": null,
            "grid_area": null,
            "grid_auto_columns": null,
            "grid_auto_flow": null,
            "grid_auto_rows": null,
            "grid_column": null,
            "grid_gap": null,
            "grid_row": null,
            "grid_template_areas": null,
            "grid_template_columns": null,
            "grid_template_rows": null,
            "height": null,
            "justify_content": null,
            "justify_items": null,
            "left": null,
            "margin": null,
            "max_height": null,
            "max_width": null,
            "min_height": null,
            "min_width": null,
            "object_fit": null,
            "object_position": null,
            "order": null,
            "overflow": null,
            "overflow_x": null,
            "overflow_y": null,
            "padding": null,
            "right": null,
            "top": null,
            "visibility": null,
            "width": null
          }
        },
        "b5fe40a4762848808a1c97822b04c286": {
          "model_module": "@jupyter-widgets/controls",
          "model_name": "ProgressStyleModel",
          "model_module_version": "1.5.0",
          "state": {
            "_model_module": "@jupyter-widgets/controls",
            "_model_module_version": "1.5.0",
            "_model_name": "ProgressStyleModel",
            "_view_count": null,
            "_view_module": "@jupyter-widgets/base",
            "_view_module_version": "1.2.0",
            "_view_name": "StyleView",
            "bar_color": null,
            "description_width": ""
          }
        },
        "017916e126a045c6b488924ce094fa66": {
          "model_module": "@jupyter-widgets/base",
          "model_name": "LayoutModel",
          "model_module_version": "1.2.0",
          "state": {
            "_model_module": "@jupyter-widgets/base",
            "_model_module_version": "1.2.0",
            "_model_name": "LayoutModel",
            "_view_count": null,
            "_view_module": "@jupyter-widgets/base",
            "_view_module_version": "1.2.0",
            "_view_name": "LayoutView",
            "align_content": null,
            "align_items": null,
            "align_self": null,
            "border": null,
            "bottom": null,
            "display": null,
            "flex": null,
            "flex_flow": null,
            "grid_area": null,
            "grid_auto_columns": null,
            "grid_auto_flow": null,
            "grid_auto_rows": null,
            "grid_column": null,
            "grid_gap": null,
            "grid_row": null,
            "grid_template_areas": null,
            "grid_template_columns": null,
            "grid_template_rows": null,
            "height": null,
            "justify_content": null,
            "justify_items": null,
            "left": null,
            "margin": null,
            "max_height": null,
            "max_width": null,
            "min_height": null,
            "min_width": null,
            "object_fit": null,
            "object_position": null,
            "order": null,
            "overflow": null,
            "overflow_x": null,
            "overflow_y": null,
            "padding": null,
            "right": null,
            "top": null,
            "visibility": null,
            "width": null
          }
        },
        "4be52ea1b0e24d5bbe810f3ef2efc9b7": {
          "model_module": "@jupyter-widgets/controls",
          "model_name": "DescriptionStyleModel",
          "model_module_version": "1.5.0",
          "state": {
            "_model_module": "@jupyter-widgets/controls",
            "_model_module_version": "1.5.0",
            "_model_name": "DescriptionStyleModel",
            "_view_count": null,
            "_view_module": "@jupyter-widgets/base",
            "_view_module_version": "1.2.0",
            "_view_name": "StyleView",
            "description_width": ""
          }
        }
      }
    }
  },
  "cells": [
    {
      "cell_type": "markdown",
      "source": [
        "# Classificação das imagens utilizando Redes Residuais (ResNet)"
      ],
      "metadata": {
        "id": "n8hH5R5lOr85"
      }
    },
    {
      "cell_type": "markdown",
      "source": [
        "## Dataset"
      ],
      "metadata": {
        "id": "TwMfgSn8O2GT"
      }
    },
    {
      "cell_type": "markdown",
      "source": [
        "O dataset escolhido está disponível no [link](https://www.kaggle.com/datasets/ahmedabdellahismail/covid-19-chest-x-ray/data), o qual é composto de **1196** imagens, pertencentes a três classes:\n",
        "\n",
        "*   Covid\n",
        "*   Virus\n",
        "*   Normal"
      ],
      "metadata": {
        "id": "fwfA9VT-O6sE"
      }
    },
    {
      "cell_type": "markdown",
      "source": [
        "Segue abaixo o código necessário para realizar download do dataset, realizar unzip e excluir arquivos desnecessários:"
      ],
      "metadata": {
        "id": "W91H26EuO_ir"
      }
    },
    {
      "cell_type": "code",
      "source": [
        "#!kaggle datasets download -d ahmedabdellahismail/covid-19-chest-x-ray\n",
        "#!unzip /content/covid-19-chest-x-ray.zip\n",
        "#!rm /content/covid-19-chest-x-ray.zip"
      ],
      "metadata": {
        "id": "zAsrSNoJPBEx"
      },
      "execution_count": 14,
      "outputs": []
    },
    {
      "cell_type": "markdown",
      "source": [
        "## Imports"
      ],
      "metadata": {
        "id": "ub-u45hGPKeP"
      }
    },
    {
      "cell_type": "code",
      "source": [
        "#!pip install torch\n",
        "#!pip install torchinfo"
      ],
      "metadata": {
        "id": "tWjYCh_jPKKE"
      },
      "execution_count": 15,
      "outputs": []
    },
    {
      "cell_type": "code",
      "source": [
        "import numpy as np\n",
        "import torch\n",
        "import matplotlib.pyplot as plt\n",
        "import torch.nn as nn\n",
        "from torch.utils.data import DataLoader, random_split, ConcatDataset\n",
        "from torchvision import datasets, transforms\n",
        "from sklearn.metrics import confusion_matrix, classification_report\n",
        "from torchinfo import summary\n",
        "%matplotlib inline\n",
        "\n",
        "mySeed = 42\n",
        "np.random.seed(mySeed)\n",
        "torch.manual_seed(mySeed)\n",
        "torch.cuda.manual_seed(mySeed)"
      ],
      "metadata": {
        "id": "S3mQDUv2PPRI"
      },
      "execution_count": 3,
      "outputs": []
    },
    {
      "cell_type": "code",
      "source": [
        "# selecionar a GPU caso exista\n",
        "device = \"cuda\" if torch.cuda.is_available() else \"cpu\"\n",
        "device"
      ],
      "metadata": {
        "colab": {
          "base_uri": "https://localhost:8080/",
          "height": 35
        },
        "id": "GBqWR-Kkf4FJ",
        "outputId": "39c7f1d8-5552-49d9-d793-d66ee6d92833"
      },
      "execution_count": 4,
      "outputs": [
        {
          "output_type": "execute_result",
          "data": {
            "text/plain": [
              "'cuda'"
            ],
            "application/vnd.google.colaboratory.intrinsic+json": {
              "type": "string"
            }
          },
          "metadata": {},
          "execution_count": 4
        }
      ]
    },
    {
      "cell_type": "markdown",
      "source": [
        "## Pré-processamento dos dados"
      ],
      "metadata": {
        "id": "Hb6xgostPX-W"
      }
    },
    {
      "cell_type": "code",
      "source": [
        "# Define a transformação que será aplicada nas imagens\n",
        "transform = transforms.Compose([\n",
        "    transforms.Resize((224, 224)), # Redimensiona as imagens para 224x224 pixels\n",
        "    transforms.ToTensor()\n",
        "])\n",
        "\n",
        "# Realiza o espelhamento horizontal das imagens para gerar mais dados\n",
        "transform2 = transforms.Compose([\n",
        "    transforms.RandomHorizontalFlip(p=1.0), # Espelha as imagens horizontalmente\n",
        "    transforms.Resize((224, 224)), # Redimensiona as imagens para 224x224 pixels\n",
        "    transforms.ToTensor()\n",
        "])\n",
        "\n",
        "# Carrega o dataset da pasta, assumindo que as subpastas são as classes\n",
        "originalDataset = datasets.ImageFolder(root=\"Data/\", transform=transform)\n",
        "flippedDataset = datasets.ImageFolder(root=\"Data/\", transform=transform2)\n",
        "\n",
        "# Concatena os datasets originais e espelhados\n",
        "dataset = ConcatDataset([originalDataset, flippedDataset])\n",
        "\n",
        "class_names = originalDataset.classes # [covid, normal, virus]\n",
        "\n",
        "# Defina a proporção de dados de treinamento e teste\n",
        "train_ratio = 0.7\n",
        "validation_ratio = 0.15\n",
        "\n",
        "# Calcula os tamanhos dos conjuntos de treino e teste\n",
        "train_size = int(train_ratio * len(dataset))\n",
        "validation_size = int(validation_ratio * len(dataset))\n",
        "test_size = len(dataset) - train_size - validation_size\n",
        "\n",
        "# Divide o dataset em conjuntos de treino e teste\n",
        "train_dataset, validation_dataset, test_dataset = random_split(dataset, [train_size, validation_size, test_size])\n",
        "\n",
        "# Cria os data loaders para carregar os dados em mini-lotes\n",
        "train_loader = DataLoader(train_dataset, batch_size=32, shuffle=True, num_workers=2, pin_memory=True)\n",
        "validation_loader = DataLoader(validation_dataset, batch_size=32, num_workers=2, pin_memory=True)\n",
        "test_loader = DataLoader(test_dataset, batch_size=32, num_workers=2, pin_memory=True)"
      ],
      "metadata": {
        "id": "GxhoMhG5PYyW"
      },
      "execution_count": 5,
      "outputs": []
    },
    {
      "cell_type": "code",
      "source": [
        "# Conta a quantidade de imagens por classe no conjunto de treinamento\n",
        "train_class_count = {}\n",
        "\n",
        "for _, label in train_dataset:\n",
        "    if label in train_class_count:\n",
        "        train_class_count[label] += 1\n",
        "    else:\n",
        "        train_class_count[label] = 1\n",
        "\n",
        "# Conta a quantidade de imagens por classe no conjunto de validacao\n",
        "validation_class_count = {}\n",
        "\n",
        "for _, label in validation_dataset:\n",
        "    if label in validation_class_count:\n",
        "        validation_class_count[label] += 1\n",
        "    else:\n",
        "        validation_class_count[label] = 1\n",
        "\n",
        "# Conta a quantidade de imagens por classe no conjunto de teste\n",
        "test_class_count = {}\n",
        "for _, label in test_dataset:\n",
        "    if label in test_class_count:\n",
        "        test_class_count[label] += 1\n",
        "    else:\n",
        "        test_class_count[label] = 1\n",
        "\n",
        "# Mostra a quantidade de imagens por classe nos conjuntos de treinamento\n",
        "print(f'Tamanho do conjunto de treino: {len(train_loader.dataset)}')\n",
        "print(\"Quantidade de imagens por classe no conjunto de treinamento:\")\n",
        "for class_idx, count in train_class_count.items():\n",
        "    print(f\"Classe {class_idx}: {count} imagens\")\n",
        "\n",
        "# Mostra a quantidade de imagens por classe nos conjuntos de validação\n",
        "print(f'\\nTamanho do conjunto de validação: {len(validation_loader.dataset)}')\n",
        "print(\"Quantidade de imagens por classe no conjunto de validação:\")\n",
        "for class_idx, count in validation_class_count.items():\n",
        "    print(f\"Classe {class_idx}: {count} imagens\")\n",
        "\n",
        "# Mostra a quantidade de imagens por classe nos conjuntos de teste\n",
        "print(f'\\nTamanho do conjunto de teste: {len(test_loader.dataset)}')\n",
        "print(\"Quantidade de imagens por classe no conjunto de teste:\")\n",
        "for class_idx, count in test_class_count.items():\n",
        "    print(f\"Classe {class_idx}: {count} imagens\")"
      ],
      "metadata": {
        "colab": {
          "base_uri": "https://localhost:8080/"
        },
        "id": "lzvZecb2PhKV",
        "outputId": "9b44dcf2-a365-4867-8262-63ff7022f9fa"
      },
      "execution_count": 6,
      "outputs": [
        {
          "output_type": "stream",
          "name": "stdout",
          "text": [
            "Tamanho do conjunto de treino: 1674\n",
            "Quantidade de imagens por classe no conjunto de treinamento:\n",
            "Classe 2: 611 imagens\n",
            "Classe 1: 647 imagens\n",
            "Classe 0: 416 imagens\n",
            "\n",
            "Tamanho do conjunto de validação: 358\n",
            "Quantidade de imagens por classe no conjunto de validação:\n",
            "Classe 2: 132 imagens\n",
            "Classe 1: 136 imagens\n",
            "Classe 0: 90 imagens\n",
            "\n",
            "Tamanho do conjunto de teste: 360\n",
            "Quantidade de imagens por classe no conjunto de teste:\n",
            "Classe 2: 123 imagens\n",
            "Classe 1: 153 imagens\n",
            "Classe 0: 84 imagens\n"
          ]
        }
      ]
    },
    {
      "cell_type": "markdown",
      "source": [
        "## Definindo nosso modelo"
      ],
      "metadata": {
        "id": "0DV3Z_uNPjDU"
      }
    },
    {
      "cell_type": "code",
      "source": [
        "# Definição do bloco básico da ResNet-18\n",
        "class BasicBlock(nn.Module):  # Bloco residual\n",
        "    expansion = 1 # Fator de expansão, expansion = 1 significa que a camada residual não altera a quantidade de canais após sua aplicação\n",
        "\n",
        "    def __init__(self, in_channels, out_channels, stride=1, downsample=None):\n",
        "        super(BasicBlock, self).__init__()\n",
        "\n",
        "        # Primeira camada convolucional\n",
        "        self.conv1 = nn.Conv2d(in_channels, out_channels, kernel_size=3, stride=stride, padding=1, bias=False)\n",
        "        self.bn1 = nn.BatchNorm2d(out_channels)\n",
        "        self.relu = nn.ReLU(inplace=True)\n",
        "\n",
        "        # Segunda camada convolucional\n",
        "        self.conv2 = nn.Conv2d(out_channels, out_channels, kernel_size=3, stride=1, padding=1, bias=False)\n",
        "        self.bn2 = nn.BatchNorm2d(out_channels)\n",
        "        self.downsample = downsample\n",
        "\n",
        "    def forward(self, x):\n",
        "        identity = x # Preserva a entrada original\n",
        "\n",
        "        # Caminho principal\n",
        "        out = self.conv1(x)\n",
        "        out = self.bn1(out)\n",
        "        out = self.relu(out)\n",
        "\n",
        "        out = self.conv2(out)\n",
        "        out = self.bn2(out)\n",
        "\n",
        "        # Se houver downsample, aplica para ajustar dimensões\n",
        "        if self.downsample is not None:\n",
        "            identity = self.downsample(x)\n",
        "\n",
        "        out += identity # soma a saida com a entrada preservada (identidade)\n",
        "        out = self.relu(out)\n",
        "\n",
        "        return out"
      ],
      "metadata": {
        "id": "plSiBdiaaMB1"
      },
      "execution_count": 7,
      "outputs": []
    },
    {
      "cell_type": "code",
      "source": [
        "# Definição da ResNet-18\n",
        "class ResNet(nn.Module):\n",
        "    def __init__(self, block, layers, num_classes=3):\n",
        "        super(ResNet, self).__init__()\n",
        "        self.in_channels = 64\n",
        "\n",
        "        # Primeira camada convolucional com stride 2 para redução de tamanho inicial\n",
        "        self.conv1 = nn.Conv2d(3, 64, kernel_size=7, stride=2, padding=3, bias=False)\n",
        "        self.bn1 = nn.BatchNorm2d(64)\n",
        "        self.relu = nn.ReLU(inplace=True)\n",
        "        self.maxpool = nn.MaxPool2d(kernel_size=3, stride=2, padding=1)\n",
        "\n",
        "        # Sequência de camadas residuais\n",
        "        self.layer1 = self._make_layer(block, 64, layers[0])\n",
        "        self.layer2 = self._make_layer(block, 128, layers[1], stride=2)\n",
        "        self.layer3 = self._make_layer(block, 256, layers[2], stride=2)\n",
        "        self.layer4 = self._make_layer(block, 512, layers[3], stride=2)\n",
        "\n",
        "        self.avgpool = nn.AdaptiveAvgPool2d((1, 1))\n",
        "        self.fc = nn.Linear(512 * block.expansion, num_classes) # Camada fully connected para classificação\n",
        "\n",
        "    def _make_layer(self, block, out_channels, blocks, stride=1):\n",
        "        downsample = None\n",
        "        if stride != 1 or self.in_channels != out_channels * block.expansion:\n",
        "            downsample = nn.Sequential(\n",
        "                nn.Conv2d(self.in_channels, out_channels * block.expansion, kernel_size=1, stride=stride, bias=False),\n",
        "                nn.BatchNorm2d(out_channels * block.expansion),\n",
        "            )\n",
        "\n",
        "        layers = []\n",
        "        # Primeira camada do bloco\n",
        "        layers.append(block(self.in_channels, out_channels, stride, downsample))\n",
        "\n",
        "        # Camadas restantes do bloco\n",
        "        self.in_channels = out_channels * block.expansion\n",
        "        for _ in range(1, blocks):\n",
        "            layers.append(block(self.in_channels, out_channels))\n",
        "\n",
        "        return nn.Sequential(*layers)\n",
        "\n",
        "    def forward(self, x):\n",
        "        # Primeira etapa: convolução e pooling inicial\n",
        "        x = self.conv1(x)\n",
        "        x = self.bn1(x)\n",
        "        x = self.relu(x)\n",
        "        x = self.maxpool(x)\n",
        "\n",
        "        # Passagem pelas camadas residuais\n",
        "        x = self.layer1(x)\n",
        "        x = self.layer2(x)\n",
        "        x = self.layer3(x)\n",
        "        x = self.layer4(x)\n",
        "\n",
        "        # Pooling adaptativo médio para garantir que a saída tenha sempre o mesmo tamanho\n",
        "        x = self.avgpool(x)\n",
        "\n",
        "        # Flatten para camada fully connected\n",
        "        x = torch.flatten(x, 1)\n",
        "\n",
        "        # Camada fully connected para a classificação final\n",
        "        x = self.fc(x)\n",
        "\n",
        "        return x"
      ],
      "metadata": {
        "id": "h3Ymf4E8aL4m"
      },
      "execution_count": 8,
      "outputs": []
    },
    {
      "cell_type": "code",
      "source": [
        "model = ResNet(BasicBlock, [2, 2, 2, 2], len(class_names)).to(device)\n",
        "\n",
        "torch.manual_seed(42) # Define a seed para reprodução dos resultados\n",
        "torch.cuda.manual_seed(42) # Define a seed para reprodução dos resultados"
      ],
      "metadata": {
        "id": "zmIgN9HPkv3k"
      },
      "execution_count": 9,
      "outputs": []
    },
    {
      "cell_type": "code",
      "source": [
        "summary(model=model,\n",
        "        input_size=(32, 3, 224, 224), # (batch_size, color_channels, height, width)\n",
        "        col_names=[\"input_size\", \"output_size\", \"num_params\", \"trainable\"],\n",
        "        col_width=20,\n",
        "        row_settings=[\"var_names\"]\n",
        ")"
      ],
      "metadata": {
        "colab": {
          "base_uri": "https://localhost:8080/"
        },
        "id": "VYdZY7_vk-zZ",
        "outputId": "b65d9bfe-b925-4c19-a968-1532c66e9977"
      },
      "execution_count": 10,
      "outputs": [
        {
          "output_type": "execute_result",
          "data": {
            "text/plain": [
              "========================================================================================================================\n",
              "Layer (type (var_name))                  Input Shape          Output Shape         Param #              Trainable\n",
              "========================================================================================================================\n",
              "ResNet (ResNet)                          [32, 3, 224, 224]    [32, 3]              --                   True\n",
              "├─Conv2d (conv1)                         [32, 3, 224, 224]    [32, 64, 112, 112]   9,408                True\n",
              "├─BatchNorm2d (bn1)                      [32, 64, 112, 112]   [32, 64, 112, 112]   128                  True\n",
              "├─ReLU (relu)                            [32, 64, 112, 112]   [32, 64, 112, 112]   --                   --\n",
              "├─MaxPool2d (maxpool)                    [32, 64, 112, 112]   [32, 64, 56, 56]     --                   --\n",
              "├─Sequential (layer1)                    [32, 64, 56, 56]     [32, 64, 56, 56]     --                   True\n",
              "│    └─BasicBlock (0)                    [32, 64, 56, 56]     [32, 64, 56, 56]     --                   True\n",
              "│    │    └─Conv2d (conv1)               [32, 64, 56, 56]     [32, 64, 56, 56]     36,864               True\n",
              "│    │    └─BatchNorm2d (bn1)            [32, 64, 56, 56]     [32, 64, 56, 56]     128                  True\n",
              "│    │    └─ReLU (relu)                  [32, 64, 56, 56]     [32, 64, 56, 56]     --                   --\n",
              "│    │    └─Conv2d (conv2)               [32, 64, 56, 56]     [32, 64, 56, 56]     36,864               True\n",
              "│    │    └─BatchNorm2d (bn2)            [32, 64, 56, 56]     [32, 64, 56, 56]     128                  True\n",
              "│    │    └─ReLU (relu)                  [32, 64, 56, 56]     [32, 64, 56, 56]     --                   --\n",
              "│    └─BasicBlock (1)                    [32, 64, 56, 56]     [32, 64, 56, 56]     --                   True\n",
              "│    │    └─Conv2d (conv1)               [32, 64, 56, 56]     [32, 64, 56, 56]     36,864               True\n",
              "│    │    └─BatchNorm2d (bn1)            [32, 64, 56, 56]     [32, 64, 56, 56]     128                  True\n",
              "│    │    └─ReLU (relu)                  [32, 64, 56, 56]     [32, 64, 56, 56]     --                   --\n",
              "│    │    └─Conv2d (conv2)               [32, 64, 56, 56]     [32, 64, 56, 56]     36,864               True\n",
              "│    │    └─BatchNorm2d (bn2)            [32, 64, 56, 56]     [32, 64, 56, 56]     128                  True\n",
              "│    │    └─ReLU (relu)                  [32, 64, 56, 56]     [32, 64, 56, 56]     --                   --\n",
              "├─Sequential (layer2)                    [32, 64, 56, 56]     [32, 128, 28, 28]    --                   True\n",
              "│    └─BasicBlock (0)                    [32, 64, 56, 56]     [32, 128, 28, 28]    --                   True\n",
              "│    │    └─Conv2d (conv1)               [32, 64, 56, 56]     [32, 128, 28, 28]    73,728               True\n",
              "│    │    └─BatchNorm2d (bn1)            [32, 128, 28, 28]    [32, 128, 28, 28]    256                  True\n",
              "│    │    └─ReLU (relu)                  [32, 128, 28, 28]    [32, 128, 28, 28]    --                   --\n",
              "│    │    └─Conv2d (conv2)               [32, 128, 28, 28]    [32, 128, 28, 28]    147,456              True\n",
              "│    │    └─BatchNorm2d (bn2)            [32, 128, 28, 28]    [32, 128, 28, 28]    256                  True\n",
              "│    │    └─Sequential (downsample)      [32, 64, 56, 56]     [32, 128, 28, 28]    8,448                True\n",
              "│    │    └─ReLU (relu)                  [32, 128, 28, 28]    [32, 128, 28, 28]    --                   --\n",
              "│    └─BasicBlock (1)                    [32, 128, 28, 28]    [32, 128, 28, 28]    --                   True\n",
              "│    │    └─Conv2d (conv1)               [32, 128, 28, 28]    [32, 128, 28, 28]    147,456              True\n",
              "│    │    └─BatchNorm2d (bn1)            [32, 128, 28, 28]    [32, 128, 28, 28]    256                  True\n",
              "│    │    └─ReLU (relu)                  [32, 128, 28, 28]    [32, 128, 28, 28]    --                   --\n",
              "│    │    └─Conv2d (conv2)               [32, 128, 28, 28]    [32, 128, 28, 28]    147,456              True\n",
              "│    │    └─BatchNorm2d (bn2)            [32, 128, 28, 28]    [32, 128, 28, 28]    256                  True\n",
              "│    │    └─ReLU (relu)                  [32, 128, 28, 28]    [32, 128, 28, 28]    --                   --\n",
              "├─Sequential (layer3)                    [32, 128, 28, 28]    [32, 256, 14, 14]    --                   True\n",
              "│    └─BasicBlock (0)                    [32, 128, 28, 28]    [32, 256, 14, 14]    --                   True\n",
              "│    │    └─Conv2d (conv1)               [32, 128, 28, 28]    [32, 256, 14, 14]    294,912              True\n",
              "│    │    └─BatchNorm2d (bn1)            [32, 256, 14, 14]    [32, 256, 14, 14]    512                  True\n",
              "│    │    └─ReLU (relu)                  [32, 256, 14, 14]    [32, 256, 14, 14]    --                   --\n",
              "│    │    └─Conv2d (conv2)               [32, 256, 14, 14]    [32, 256, 14, 14]    589,824              True\n",
              "│    │    └─BatchNorm2d (bn2)            [32, 256, 14, 14]    [32, 256, 14, 14]    512                  True\n",
              "│    │    └─Sequential (downsample)      [32, 128, 28, 28]    [32, 256, 14, 14]    33,280               True\n",
              "│    │    └─ReLU (relu)                  [32, 256, 14, 14]    [32, 256, 14, 14]    --                   --\n",
              "│    └─BasicBlock (1)                    [32, 256, 14, 14]    [32, 256, 14, 14]    --                   True\n",
              "│    │    └─Conv2d (conv1)               [32, 256, 14, 14]    [32, 256, 14, 14]    589,824              True\n",
              "│    │    └─BatchNorm2d (bn1)            [32, 256, 14, 14]    [32, 256, 14, 14]    512                  True\n",
              "│    │    └─ReLU (relu)                  [32, 256, 14, 14]    [32, 256, 14, 14]    --                   --\n",
              "│    │    └─Conv2d (conv2)               [32, 256, 14, 14]    [32, 256, 14, 14]    589,824              True\n",
              "│    │    └─BatchNorm2d (bn2)            [32, 256, 14, 14]    [32, 256, 14, 14]    512                  True\n",
              "│    │    └─ReLU (relu)                  [32, 256, 14, 14]    [32, 256, 14, 14]    --                   --\n",
              "├─Sequential (layer4)                    [32, 256, 14, 14]    [32, 512, 7, 7]      --                   True\n",
              "│    └─BasicBlock (0)                    [32, 256, 14, 14]    [32, 512, 7, 7]      --                   True\n",
              "│    │    └─Conv2d (conv1)               [32, 256, 14, 14]    [32, 512, 7, 7]      1,179,648            True\n",
              "│    │    └─BatchNorm2d (bn1)            [32, 512, 7, 7]      [32, 512, 7, 7]      1,024                True\n",
              "│    │    └─ReLU (relu)                  [32, 512, 7, 7]      [32, 512, 7, 7]      --                   --\n",
              "│    │    └─Conv2d (conv2)               [32, 512, 7, 7]      [32, 512, 7, 7]      2,359,296            True\n",
              "│    │    └─BatchNorm2d (bn2)            [32, 512, 7, 7]      [32, 512, 7, 7]      1,024                True\n",
              "│    │    └─Sequential (downsample)      [32, 256, 14, 14]    [32, 512, 7, 7]      132,096              True\n",
              "│    │    └─ReLU (relu)                  [32, 512, 7, 7]      [32, 512, 7, 7]      --                   --\n",
              "│    └─BasicBlock (1)                    [32, 512, 7, 7]      [32, 512, 7, 7]      --                   True\n",
              "│    │    └─Conv2d (conv1)               [32, 512, 7, 7]      [32, 512, 7, 7]      2,359,296            True\n",
              "│    │    └─BatchNorm2d (bn1)            [32, 512, 7, 7]      [32, 512, 7, 7]      1,024                True\n",
              "│    │    └─ReLU (relu)                  [32, 512, 7, 7]      [32, 512, 7, 7]      --                   --\n",
              "│    │    └─Conv2d (conv2)               [32, 512, 7, 7]      [32, 512, 7, 7]      2,359,296            True\n",
              "│    │    └─BatchNorm2d (bn2)            [32, 512, 7, 7]      [32, 512, 7, 7]      1,024                True\n",
              "│    │    └─ReLU (relu)                  [32, 512, 7, 7]      [32, 512, 7, 7]      --                   --\n",
              "├─AdaptiveAvgPool2d (avgpool)            [32, 512, 7, 7]      [32, 512, 1, 1]      --                   --\n",
              "├─Linear (fc)                            [32, 512]            [32, 3]              1,539                True\n",
              "========================================================================================================================\n",
              "Total params: 11,178,051\n",
              "Trainable params: 11,178,051\n",
              "Non-trainable params: 0\n",
              "Total mult-adds (G): 58.03\n",
              "========================================================================================================================\n",
              "Input size (MB): 19.27\n",
              "Forward/backward pass size (MB): 1271.66\n",
              "Params size (MB): 44.71\n",
              "Estimated Total Size (MB): 1335.64\n",
              "========================================================================================================================"
            ]
          },
          "metadata": {},
          "execution_count": 10
        }
      ]
    },
    {
      "cell_type": "markdown",
      "source": [
        "Funções de treinamento e validação\n"
      ],
      "metadata": {
        "id": "1Rxl2MFvlJQe"
      }
    },
    {
      "cell_type": "code",
      "source": [
        "from tqdm.auto import tqdm\n",
        "from typing import Dict, List, Tuple\n",
        "\n",
        "# Passo de treino\n",
        "def train_step(model: torch.nn.Module,\n",
        "               dataloader: torch.utils.data.DataLoader,\n",
        "               loss_fn: torch.nn.Module,\n",
        "               optimizer: torch.optim.Optimizer,\n",
        "               device: torch.device) -> Tuple[float, float]:\n",
        "\n",
        "    model.train()\n",
        "\n",
        "    train_loss, train_acc = 0, 0\n",
        "\n",
        "    # Passa por cada mini-lote\n",
        "    for batch, (X, y) in enumerate(dataloader):\n",
        "        # Envia os dados para o dispositivo de hardware\n",
        "        X, y = X.to(device), y.to(device)\n",
        "\n",
        "        y_pred = model(X) # Etapa de forward\n",
        "\n",
        "        # Calcula e acumula a loss\n",
        "        loss = loss_fn(y_pred, y)\n",
        "        train_loss += loss.item()\n",
        "\n",
        "        # Zera os gradientes\n",
        "        optimizer.zero_grad()\n",
        "\n",
        "        # Calcula os gradientes\n",
        "        loss.backward()\n",
        "\n",
        "        # Atualiza os parâmetros\n",
        "        optimizer.step()\n",
        "\n",
        "        # Calcula e acumula a acurácia\n",
        "        y_pred_class = torch.argmax(torch.softmax(y_pred, dim=1), dim=1)\n",
        "        train_acc += (y_pred_class == y).sum().item()/len(y_pred)\n",
        "\n",
        "    # Calcula a média da loss e acurácia\n",
        "    train_loss = train_loss / len(dataloader)\n",
        "    train_acc = train_acc / len(dataloader)\n",
        "    return train_loss, train_acc\n",
        "\n",
        "def val_step(model: torch.nn.Module,\n",
        "              dataloader: torch.utils.data.DataLoader,\n",
        "              loss_fn: torch.nn.Module,\n",
        "              device: torch.device) -> Tuple[float, float]:\n",
        "\n",
        "    model.eval() # Coloca o modelo em modo de avaliação\n",
        "    val_loss, val_acc = 0, 0\n",
        "\n",
        "    with torch.inference_mode():\n",
        "        # Passa por cada mini-lote\n",
        "        for batch, (X, y) in enumerate(dataloader):\n",
        "            # Envia os dados para o dispositivo de hardware\n",
        "            X, y = X.to(device), y.to(device)\n",
        "\n",
        "            # Etapa de forward\n",
        "            y_pred = model(X)\n",
        "\n",
        "            # Calcula e acumula a loss\n",
        "            loss = loss_fn(y_pred, y)\n",
        "            val_loss += loss.item()\n",
        "\n",
        "            # Calcula e acumula a acurácia\n",
        "            val_pred_labels = y_pred.argmax(dim=1)\n",
        "            val_acc += ((val_pred_labels == y).sum().item()/len(val_pred_labels))\n",
        "\n",
        "    # Calcula a média da loss e acurácia\n",
        "    val_loss = val_loss / len(dataloader)\n",
        "    val_acc = val_acc / len(dataloader)\n",
        "    return val_loss, val_acc\n",
        "\n",
        "def train(model: torch.nn.Module,\n",
        "          train_dataloader: torch.utils.data.DataLoader,\n",
        "          val_dataloader: torch.utils.data.DataLoader,\n",
        "          optimizer: torch.optim.Optimizer,\n",
        "          loss_fn: torch.nn.Module,\n",
        "          epochs: int,\n",
        "          device: torch.device) -> Dict[str, List]:\n",
        "\n",
        "    results = {\"train_loss\": [],\n",
        "               \"train_acc\": [],\n",
        "               \"val_loss\": [],\n",
        "               \"val_acc\": []\n",
        "    }\n",
        "\n",
        "    model.to(device)\n",
        "\n",
        "    # Loop de treinamento\n",
        "    for epoch in tqdm(range(epochs)):\n",
        "        # Treina o modelo\n",
        "        train_loss, train_acc = train_step(model=model,\n",
        "                                          dataloader=train_dataloader,\n",
        "                                          loss_fn=loss_fn,\n",
        "                                          optimizer=optimizer,\n",
        "                                          device=device)\n",
        "\n",
        "        # Avalia o modelo\n",
        "        val_loss, val_acc = val_step(model=model,\n",
        "                                    dataloader=val_dataloader,\n",
        "                                    loss_fn=loss_fn,\n",
        "                                    device=device)\n",
        "\n",
        "        # Imprime as métricas\n",
        "        print(\n",
        "          f\"Epoch: {epoch+1} | \"\n",
        "          f\"train_loss: {train_loss:.4f} | \"\n",
        "          f\"train_acc: {train_acc:.4f} | \"\n",
        "          f\"val_loss: {val_loss:.4f} | \"\n",
        "          f\"val_acc: {val_acc:.4f}\"\n",
        "        )\n",
        "\n",
        "        results[\"train_loss\"].append(train_loss)\n",
        "        results[\"train_acc\"].append(train_acc)\n",
        "        results[\"val_loss\"].append(val_loss)\n",
        "        results[\"val_acc\"].append(val_acc)\n",
        "\n",
        "    return results\n",
        "\n",
        "def predict(model: torch.nn.Module,\n",
        "            dataloader: torch.utils.data.DataLoader,\n",
        "            device: torch.device) -> Tuple[torch.Tensor, torch.Tensor]:\n",
        "\n",
        "    model.eval()\n",
        "\n",
        "    all_preds = []\n",
        "    all_targets = []\n",
        "\n",
        "    with torch.inference_mode():\n",
        "        # Passa por cada mini-lote\n",
        "        for batch, (X, y) in enumerate(dataloader):\n",
        "            # Envia os dados para o dispositivo de hardware\n",
        "            X, y = X.to(device), y.to(device)\n",
        "\n",
        "            y_pred = model(X)\n",
        "\n",
        "            all_preds.append(y_pred)\n",
        "            all_targets.append(y)\n",
        "\n",
        "    # Concatena as predições e as classes\n",
        "    all_preds = torch.cat(all_preds)\n",
        "    all_targets = torch.cat(all_targets)\n",
        "    return all_preds, all_targets"
      ],
      "metadata": {
        "id": "P2C3QCRjjK3l"
      },
      "execution_count": 11,
      "outputs": []
    },
    {
      "cell_type": "code",
      "source": [
        "# Define o otimizador e a função de loss\n",
        "optimizer = torch.optim.Adam(params=model.parameters(), lr=1e-3)\n",
        "loss_fn = torch.nn.CrossEntropyLoss()\n",
        "\n",
        "# Treina o modelo\n",
        "ResNet_results = train(model=model,\n",
        "                    train_dataloader=train_loader,\n",
        "                    val_dataloader=validation_loader,\n",
        "                    optimizer=optimizer,\n",
        "                    loss_fn=loss_fn,\n",
        "                    epochs=30,\n",
        "                    device=device)"
      ],
      "metadata": {
        "colab": {
          "base_uri": "https://localhost:8080/",
          "height": 625,
          "referenced_widgets": [
            "a48cddd7bc6143c2a9e0bd8b47b7219a",
            "78fb33661bfc47b1a7d3a0517c5050f1",
            "6ca51add4f134d79becffa000ba4475a",
            "34de303451554b05af0e510ff01f4fe2",
            "7d90d03c448c409a8339abc28cde214a",
            "48cb41a4c8bf447abb3373826f69c0be",
            "bd8a923ca9af4bdeb647ea1114016a05",
            "00e3157eb9734a698d98b6484e5aeb7b",
            "b5fe40a4762848808a1c97822b04c286",
            "017916e126a045c6b488924ce094fa66",
            "4be52ea1b0e24d5bbe810f3ef2efc9b7"
          ]
        },
        "id": "PcHmVch4gL3D",
        "outputId": "88245f75-80e2-424e-ac8c-58badb0a8c78"
      },
      "execution_count": 12,
      "outputs": [
        {
          "output_type": "display_data",
          "data": {
            "text/plain": [
              "  0%|          | 0/30 [00:00<?, ?it/s]"
            ],
            "application/vnd.jupyter.widget-view+json": {
              "version_major": 2,
              "version_minor": 0,
              "model_id": "a48cddd7bc6143c2a9e0bd8b47b7219a"
            }
          },
          "metadata": {}
        },
        {
          "output_type": "stream",
          "name": "stderr",
          "text": [
            "/usr/local/lib/python3.10/dist-packages/torch/autograd/graph.py:744: UserWarning: Plan failed with a cudnnException: CUDNN_BACKEND_EXECUTION_PLAN_DESCRIPTOR: cudnnFinalize Descriptor Failed cudnn_status: CUDNN_STATUS_NOT_SUPPORTED (Triggered internally at ../aten/src/ATen/native/cudnn/Conv_v8.cpp:919.)\n",
            "  return Variable._execution_engine.run_backward(  # Calls into the C++ engine to run the backward pass\n"
          ]
        },
        {
          "output_type": "stream",
          "name": "stdout",
          "text": [
            "Epoch: 1 | train_loss: 0.5149 | train_acc: 0.8059 | val_loss: 3.0158 | val_acc: 0.5035\n",
            "Epoch: 2 | train_loss: 0.2949 | train_acc: 0.8928 | val_loss: 7.6039 | val_acc: 0.4366\n",
            "Epoch: 3 | train_loss: 0.2846 | train_acc: 0.8846 | val_loss: 0.2684 | val_acc: 0.9028\n",
            "Epoch: 4 | train_loss: 0.2080 | train_acc: 0.9225 | val_loss: 1.3713 | val_acc: 0.5451\n",
            "Epoch: 5 | train_loss: 0.1803 | train_acc: 0.9249 | val_loss: 0.3998 | val_acc: 0.8481\n",
            "Epoch: 6 | train_loss: 0.1747 | train_acc: 0.9396 | val_loss: 1.6320 | val_acc: 0.6753\n",
            "Epoch: 7 | train_loss: 0.1435 | train_acc: 0.9480 | val_loss: 0.6981 | val_acc: 0.7743\n",
            "Epoch: 8 | train_loss: 0.1237 | train_acc: 0.9552 | val_loss: 0.3275 | val_acc: 0.8819\n",
            "Epoch: 9 | train_loss: 0.1232 | train_acc: 0.9540 | val_loss: 0.2567 | val_acc: 0.9089\n",
            "Epoch: 10 | train_loss: 0.0885 | train_acc: 0.9676 | val_loss: 0.2924 | val_acc: 0.8950\n",
            "Epoch: 11 | train_loss: 0.0952 | train_acc: 0.9634 | val_loss: 0.2802 | val_acc: 0.9184\n",
            "Epoch: 12 | train_loss: 0.1351 | train_acc: 0.9505 | val_loss: 0.8021 | val_acc: 0.7283\n",
            "Epoch: 13 | train_loss: 0.0900 | train_acc: 0.9698 | val_loss: 2.0474 | val_acc: 0.5148\n",
            "Epoch: 14 | train_loss: 0.0912 | train_acc: 0.9608 | val_loss: 3.1330 | val_acc: 0.5877\n",
            "Epoch: 15 | train_loss: 0.0992 | train_acc: 0.9593 | val_loss: 1.2259 | val_acc: 0.7734\n",
            "Epoch: 16 | train_loss: 0.0630 | train_acc: 0.9805 | val_loss: 0.4299 | val_acc: 0.8663\n",
            "Epoch: 17 | train_loss: 0.0606 | train_acc: 0.9797 | val_loss: 0.1886 | val_acc: 0.9418\n",
            "Epoch: 18 | train_loss: 0.0815 | train_acc: 0.9726 | val_loss: 3.3984 | val_acc: 0.6536\n",
            "Epoch: 19 | train_loss: 0.0624 | train_acc: 0.9782 | val_loss: 0.4974 | val_acc: 0.8403\n",
            "Epoch: 20 | train_loss: 0.0225 | train_acc: 0.9929 | val_loss: 0.1608 | val_acc: 0.9366\n",
            "Epoch: 21 | train_loss: 0.0302 | train_acc: 0.9876 | val_loss: 0.1364 | val_acc: 0.9609\n",
            "Epoch: 22 | train_loss: 0.0471 | train_acc: 0.9811 | val_loss: 0.1489 | val_acc: 0.9549\n",
            "Epoch: 23 | train_loss: 0.0581 | train_acc: 0.9782 | val_loss: 0.5757 | val_acc: 0.8220\n",
            "Epoch: 24 | train_loss: 0.0458 | train_acc: 0.9853 | val_loss: 6.7337 | val_acc: 0.5773\n",
            "Epoch: 25 | train_loss: 0.0122 | train_acc: 0.9971 | val_loss: 0.0860 | val_acc: 0.9661\n",
            "Epoch: 26 | train_loss: 0.0136 | train_acc: 0.9952 | val_loss: 0.1357 | val_acc: 0.9609\n",
            "Epoch: 27 | train_loss: 0.0539 | train_acc: 0.9816 | val_loss: 0.1367 | val_acc: 0.9583\n",
            "Epoch: 28 | train_loss: 0.0440 | train_acc: 0.9835 | val_loss: 7.9922 | val_acc: 0.4314\n",
            "Epoch: 29 | train_loss: 0.0219 | train_acc: 0.9929 | val_loss: 0.0903 | val_acc: 0.9688\n",
            "Epoch: 30 | train_loss: 0.0128 | train_acc: 0.9959 | val_loss: 0.1146 | val_acc: 0.9714\n"
          ]
        }
      ]
    },
    {
      "cell_type": "code",
      "source": [
        "## Avaliação do modelo\n",
        "\n",
        "# Plota as métricas de treinamento\n",
        "plt.figure(figsize=(10, 7))\n",
        "plt.plot(ResNet_results[\"train_loss\"], label=\"train_loss\")\n",
        "plt.plot(ResNet_results[\"val_loss\"], label=\"val_loss\")\n",
        "plt.title(\"Training Loss\")\n",
        "plt.xlabel(\"Epochs\")\n",
        "plt.ylabel(\"Loss\")\n",
        "plt.legend()\n",
        "plt.show()\n",
        "\n",
        "plt.figure(figsize=(10, 7))\n",
        "plt.plot(ResNet_results[\"train_acc\"], label=\"train_acc\")\n",
        "plt.plot(ResNet_results[\"val_acc\"], label=\"val_acc\")\n",
        "plt.title(\"Training Accuracy\")\n",
        "plt.xlabel(\"Epochs\")\n",
        "plt.ylabel(\"Accuracy\")\n",
        "plt.legend()\n",
        "plt.show()\n",
        "\n",
        "# Realiza a predição no conjunto de teste\n",
        "all_preds, all_targets = predict(model=model,\n",
        "                                 dataloader=test_loader,\n",
        "                                 device=device)\n",
        "\n",
        "# Calcula a matriz de confusão\n",
        "conf_matrix = confusion_matrix(all_targets.cpu(), all_preds.argmax(dim=1).cpu())\n",
        "\n",
        "# Plota a matriz de confusão\n",
        "plt.figure(figsize=(10, 10))\n",
        "plt.imshow(conf_matrix, cmap=\"Blues\")\n",
        "plt.colorbar()\n",
        "plt.title(\"Confusion Matrix\")\n",
        "plt.xticks(np.arange(3), class_names, rotation=45)\n",
        "plt.yticks(np.arange(3), class_names)\n",
        "plt.xlabel(\"Predicted\")\n",
        "plt.ylabel(\"Actual\")\n",
        "plt.show()\n",
        "\n",
        "# Imprime o classification report\n",
        "print(classification_report(all_targets.cpu(), all_preds.argmax(dim=1).cpu(), target_names=class_names))"
      ],
      "metadata": {
        "colab": {
          "base_uri": "https://localhost:8080/",
          "height": 1000
        },
        "id": "xvTnJM6hm7_Q",
        "outputId": "7d589b18-e8e7-404c-87db-564e90bd739c"
      },
      "execution_count": 13,
      "outputs": [
        {
          "output_type": "display_data",
          "data": {
            "text/plain": [
              "<Figure size 1000x700 with 1 Axes>"
            ],
            "image/png": "[encoded data removed]"
          },
          "metadata": {}
        },
        {
          "output_type": "display_data",
          "data": {
            "text/plain": [
              "<Figure size 1000x700 with 1 Axes>"
            ],
            "image/png": "[encoded data removed]"
          },
          "metadata": {}
        },
        {
          "output_type": "display_data",
          "data": {
            "text/plain": [
              "<Figure size 1000x1000 with 2 Axes>"
            ],
            "image/png": "[encoded data removed]"
          },
          "metadata": {}
        },
        {
          "output_type": "stream",
          "name": "stdout",
          "text": [
            "              precision    recall  f1-score   support\n",
            "\n",
            "       covid       0.98      0.96      0.97        84\n",
            "      normal       0.99      0.98      0.98       153\n",
            "       virus       0.96      0.98      0.97       123\n",
            "\n",
            "    accuracy                           0.97       360\n",
            "   macro avg       0.97      0.97      0.97       360\n",
            "weighted avg       0.98      0.97      0.98       360\n",
            "\n"
          ]
        }
      ]
    }
  ]
}